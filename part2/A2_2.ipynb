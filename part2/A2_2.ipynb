{
  "cells": [
    {
      "cell_type": "code",
      "execution_count": 3,
      "metadata": {
        "colab": {
          "base_uri": "https://localhost:8080/"
        },
        "id": "U0X6CKQciM_e",
        "outputId": "77acd6fd-a929-4de8-9002-1f419b5d6647"
      },
      "outputs": [
        {
          "name": "stdout",
          "output_type": "stream",
          "text": [
            "Requirement already satisfied: cvxopt in c:\\users\\ashu jain\\anaconda3\\lib\\site-packages (1.3.2)\n",
            "Note: you may need to restart the kernel to use updated packages.\n"
          ]
        }
      ],
      "source": [
        "%pip install cvxopt"
      ]
    },
    {
      "cell_type": "code",
      "execution_count": 29,
      "metadata": {
        "id": "bJR7KaYWlsnd"
      },
      "outputs": [],
      "source": [
        "import cvxopt\n",
        "from cvxopt import matrix\n",
        "from cvxopt import solvers\n",
        "\n",
        "import matplotlib.pyplot as plt\n",
        "import math"
      ]
    },
    {
      "cell_type": "markdown",
      "metadata": {
        "id": "9x2tavLeE0OW"
      },
      "source": []
    },
    {
      "cell_type": "code",
      "execution_count": 2,
      "metadata": {
        "colab": {
          "base_uri": "https://localhost:8080/"
        },
        "id": "m7BtNLzXvB5b",
        "outputId": "57578935-63b4-4d6f-d217-2cfaa7cd4093"
      },
      "outputs": [],
      "source": [
        "# !unzip \"./svm/drive/MyDrive/svm.zip\""
      ]
    },
    {
      "cell_type": "code",
      "execution_count": 3,
      "metadata": {
        "id": "Wr3G9d32w2lk"
      },
      "outputs": [],
      "source": [
        "# %pip install opencv-python\n",
        "import cv2 as cv2 \n",
        "import numpy as np\n",
        "import os"
      ]
    },
    {
      "cell_type": "code",
      "execution_count": 4,
      "metadata": {
        "id": "FTo2oLz-1A_4"
      },
      "outputs": [],
      "source": [
        "def resize(img_name, new_size):\n",
        "  img = cv2.imread(img_name)\n",
        "  img = img.astype(np.float32)\n",
        "  img = cv2.resize(img,  new_size)\n",
        "  norm_img = img/255.0\n",
        "  norm_img = norm_img.flatten()\n",
        "\n",
        "  return norm_img"
      ]
    },
    {
      "cell_type": "code",
      "execution_count": 50,
      "metadata": {
        "id": "nfLZfmFQ3vWb"
      },
      "outputs": [],
      "source": [
        "# design matrix\n",
        "folder_name = \"./svm/train/3\"\n",
        "\n",
        "X = tuple()\n",
        "new_shape = (16, 16)\n",
        "cnt = 2\n",
        "\n",
        "for filename in os.listdir(folder_name):\n",
        "      file = os.path.join(folder_name, filename)\n",
        "      Y = resize(file, new_shape)\n",
        "      X = X + ( Y[None , ...], )\n",
        "\n",
        "\n",
        "folder_name = \"./svm/train/1\"\n",
        "for filename in os.listdir(folder_name):\n",
        "      file = os.path.join(folder_name, filename)\n",
        "      Y = resize(file, new_shape)\n",
        "      X = X + ( Y[None , ...], )\n",
        "\n",
        "X = np.vstack(X)\n"
      ]
    },
    {
      "cell_type": "code",
      "execution_count": 38,
      "metadata": {
        "id": "WJL0hrc98tj_"
      },
      "outputs": [],
      "source": [
        "# labels\n",
        "Y = np.array([], dtype = int)\n",
        "for i in range( int(X.shape[0]/2) ):\n",
        "  Y = np.append(Y, -1)\n",
        "for i in range(int(X.shape[0]/2)):\n",
        "  Y = np.append(Y, 1)\n",
        "\n"
      ]
    },
    {
      "cell_type": "code",
      "execution_count": 7,
      "metadata": {
        "colab": {
          "base_uri": "https://localhost:8080/"
        },
        "id": "glPpwhgPSIeS",
        "outputId": "9c0f7212-afd4-4773-b99a-05ee1f894e79"
      },
      "outputs": [
        {
          "name": "stdout",
          "output_type": "stream",
          "text": [
            "(4760, 768)\n",
            "[-1 -1 -1 ...  1  1  1]\n",
            "[[1 2 3]\n",
            " [1 2 3]\n",
            " [4 5 6]]\n"
          ]
        }
      ],
      "source": [
        "print(X.shape)\n",
        "print(Y)\n",
        "temp = np.array([[1,2,3], [1,2,3],[4,5,6]])\n",
        "temp3 = temp ** 2 \n",
        "print(temp)"
      ]
    },
    {
      "cell_type": "code",
      "execution_count": 45,
      "metadata": {
        "id": "MJya1_LRBWal"
      },
      "outputs": [],
      "source": [
        "# modelling the problem as a cvx opt problem\n",
        "\n",
        "class SVM:\n",
        "  def __init__(self, X, Y, C):\n",
        "    self.X = X\n",
        "    self.Y = Y\n",
        "    self.C = C\n",
        "    self.m = Y.shape[0]\n",
        "    print(\"here\")\n",
        "    self.P = matrix(self.get_P())\n",
        "    self.q = matrix(np.full( (self.m, ), -1 ))\n",
        "\n",
        "    temp = np.full( (self.m, ) , 1)\n",
        "    temp2 = np.full( (self.m, ) , -1)\n",
        "    self.G = matrix(np.vstack( ( np.diag(temp2), np.diag(temp))  ) )\n",
        "\n",
        "    temp = np.full( (self.m, ), C)\n",
        "    self.h = matrix(np.hstack( ( np.zeros( (self.m, ) ), temp) ) )\n",
        "\n",
        "    self.A = matrix(np.vstack( (self.Y, )))\n",
        "    self.b = matrix(np.zeros( (1,) ))\n",
        "\n",
        "    self.P = matrix( np.array(self.P), tc='d')\n",
        "    self.q = matrix( np.array(self.q), tc='d')\n",
        "    self.G = matrix( np.array(self.G), tc='d')\n",
        "    self.h = matrix( np.array(self.h), tc='d')\n",
        "    self.A = matrix( np.array(self.A), tc='d')\n",
        "    self.b = matrix( np.array(self.b), tc='d')\n",
        "    self.no_of_classes = 2\n",
        "\n",
        "    self.soln = None\n",
        "\n",
        "\n",
        "  def kernel(self, x, y):\n",
        "    return (x.T) @ y # override for different kernels\n",
        "\n",
        "\n",
        "  def gaussian_kernel_matrix(self): # custom functoin for gaussian kernel\n",
        "    \n",
        "    pairwise_sq_dists = np.sum(self.X**2 , axis=1, keepdims=True) - 2 * np.dot(self.X, self.X.T) + np.sum(self.X**2, axis=1, keepdims=True).T\n",
        "    self.kernel_matrix = np.exp(- self.gamma * pairwise_sq_dists)\n",
        "    print(np.outer(self.Y, self.Y).shape) \n",
        "    self.kernel_matrix = np.outer(self.Y, self.Y) * self.kernel_matrix \n",
        "    \n",
        "    # self.inner_product_matrix = self.X @ (self.X).T\n",
        "    # print(self.inner_product_matrix.shape)\n",
        "    # self.kernel_matrix = np.zeros(self.inner_product_matrix.shape) \n",
        "    # for i in range(self.m):\n",
        "    #   for j in range(self.m):\n",
        "    #     self.kernel_matrix[i, j] = ( -self.gamma * (self.inner_product_matrix[i, i] + self.inner_product_matrix[j, j] - 2 * self.inner_product_matrix[i, j] ) )\n",
        "    # self.kernel_matrix = np.exp(self.kernel_matrix) \n",
        "    return \n",
        "   \n",
        "\n",
        "  def get_P(self):\n",
        "    new_shape = (self.m , self.m)\n",
        "    temp = np.zeros(new_shape)\n",
        "    for i in range(self.m):\n",
        "      for j in range(self.m):\n",
        "        temp[i, j] = self.Y[i] * self.Y[j] * self.kernel(self.X[i, :], self.X[j, :])\n",
        "    return temp\n",
        "\n",
        "  def solve(self):\n",
        "    self.soln = solvers.qp(self.P, self.q, self.G, self.h, self.A, self.b)\n",
        "    return self.soln\n",
        "\n",
        "  def get_support_vectors(self):\n",
        "    alphas = np.array(self.soln[\"x\"])\n",
        "    alphas = np.array( [ alpha[0] for alpha in alphas] )\n",
        "    # print(alphas)\n",
        "    alphas = [[alphas[i],  int(i) ] for i in range(alphas.shape[0])]\n",
        "    alphas = np.array(alphas)\n",
        "    self.og_alphas = alphas\n",
        "    sorted_indices = np.argsort(self.og_alphas[:, 1])\n",
        "    self.og_alphas = self.og_alphas[sorted_indices]\n",
        "    shape = alphas.shape\n",
        "    m = shape[0]\n",
        "\n",
        "    self.init_size = alphas.shape[0]\n",
        "    support_vectors = np.array([ (alpha[0], alpha[1]) for alpha in alphas if (alpha[0] > 1e-05)] )\n",
        "    sorted_indices = np.argsort(support_vectors[:, 0])\n",
        "    self.support_vectors = support_vectors[sorted_indices]\n",
        "    self.no_of_support_vectors = support_vectors.shape[0]\n",
        "    print(self.init_size, self.no_of_support_vectors)\n",
        "    return (self.og_alphas, self.support_vectors)\n",
        "\n",
        "  def inner_product(self, x): # takes inner product of a input attribute' feature vector with weight vector\n",
        "    temp = np.array([self.kernel(self.X[i], x) for i in range(self.m)])\n",
        "    return np.sum(self.og_alphas[:,0] * self.Y * temp)\n",
        "\n",
        "  def get_weight(self): # only valid for linear kernel, not gaussian kernel\n",
        "    weight = np.zeros( (self.Y.shape[0], ) )\n",
        "    temp = self.Y * (self.og_alphas[:,0])\n",
        "    self.weight = ( (self.X).T @ temp)\n",
        "    # weight = np.sum ( temp2,axis = 0)\n",
        "    print(weight.shape)\n",
        "    return self.weight\n",
        "\n",
        "  def get_bias(self):\n",
        "      # m = (self.og_alphas).shape[0]\n",
        "      all_bias = []\n",
        "      for i in range(self.m):\n",
        "        alpha = self.og_alphas[i,0]\n",
        "        if (alpha < 1e-05 or (self.C - alpha) < 1e-05): continue\n",
        "        # temp = ((self.weight.T) @ self.X[i])\n",
        "        temp = self.inner_product(self.X[i])\n",
        "        bias = self.Y[i] - temp\n",
        "        all_bias.append(bias)\n",
        "      all_bias = np.array(all_bias)\n",
        "      self.bias = np.sum(all_bias)/all_bias.shape[0]\n",
        "      return self.bias\n",
        "\n",
        "  def predict(self, example):\n",
        "    temp = self.inner_product(example) + self.bias\n",
        "    # print(temp)\n",
        "    if (temp > 0) : predict = 1\n",
        "    else: predict = -1\n",
        "    return (predict, temp)\n",
        "\n",
        "  def get_confusion_matrix(self, test_eg, test_ans) :\n",
        "    size = test_eg.shape[0]\n",
        "    confusion_matrix = np.zeros( (self.no_of_classes, self.no_of_classes))\n",
        "    correct , incorrect = 0,0\n",
        "    for k in range(size):\n",
        "      (prediction, score) = self.predict(test_eg[k])\n",
        "      if (test_ans[k] == prediction) : correct += 1\n",
        "      else : incorrect +=  1\n",
        "\n",
        "      if (prediction == -1) : prediction = 0\n",
        "      copy = 1\n",
        "      if (test_ans[k] == -1) : copy = 0\n",
        "      confusion_matrix[copy][prediction] += 1\n",
        "\n",
        "\n",
        "    return (confusion_matrix, (correct / (correct + incorrect)))\n",
        "\n",
        "\n"
      ]
    },
    {
      "cell_type": "code",
      "execution_count": 39,
      "metadata": {
        "id": "kSif2H48QGb3"
      },
      "outputs": [
        {
          "name": "stdout",
          "output_type": "stream",
          "text": [
            "here\n"
          ]
        }
      ],
      "source": [
        "linear_kernel = SVM(X, Y , 1.0)"
      ]
    },
    {
      "cell_type": "code",
      "execution_count": 21,
      "metadata": {
        "id": "wITDtXpyYwwy"
      },
      "outputs": [
        {
          "name": "stdout",
          "output_type": "stream",
          "text": [
            "     pcost       dcost       gap    pres   dres\n",
            " 0: -3.0954e+03 -1.5799e+04  9e+04  4e+00  1e-10\n",
            " 1: -2.1202e+03 -1.2138e+04  2e+04  6e-01  8e-11\n",
            " 2: -1.9840e+03 -4.6258e+03  3e+03  2e-12  7e-11\n",
            " 3: -2.3242e+03 -3.0811e+03  8e+02  1e-12  6e-11\n",
            " 4: -2.4551e+03 -2.8440e+03  4e+02  6e-14  7e-11\n",
            " 5: -2.5320e+03 -2.7012e+03  2e+02  2e-13  7e-11\n",
            " 6: -2.5690e+03 -2.6351e+03  7e+01  8e-13  7e-11\n",
            " 7: -2.5858e+03 -2.6069e+03  2e+01  1e-12  8e-11\n",
            " 8: -2.5910e+03 -2.5987e+03  8e+00  9e-13  7e-11\n",
            " 9: -2.5935e+03 -2.5952e+03  2e+00  3e-13  8e-11\n",
            "10: -2.5941e+03 -2.5943e+03  2e-01  1e-12  8e-11\n",
            "11: -2.5942e+03 -2.5942e+03  1e-02  3e-12  8e-11\n",
            "12: -2.5942e+03 -2.5942e+03  3e-04  2e-12  8e-11\n",
            "Optimal solution found.\n"
          ]
        }
      ],
      "source": [
        "soln = linear_kernel.solve()"
      ]
    },
    {
      "cell_type": "code",
      "execution_count": 22,
      "metadata": {
        "id": "z8d3iu-Tfdiv"
      },
      "outputs": [
        {
          "name": "stdout",
          "output_type": "stream",
          "text": [
            "4760 2904\n",
            "[[1.06765294e-05 1.38800000e+03]\n",
            " [8.48969638e-05 4.22900000e+03]\n",
            " [9.51915758e-05 2.59600000e+03]\n",
            " ...\n",
            " [9.99999995e-01 4.69800000e+03]\n",
            " [9.99999995e-01 2.22100000e+03]\n",
            " [9.99999996e-01 1.15200000e+03]]\n"
          ]
        }
      ],
      "source": [
        "# linear_kernel.get_support_vectors()\n",
        "# print(soln[\"x\"])\n",
        "# og_alphas, support_vectors = get_support_vectors(soln)\n",
        "og_alphas, support_vectors = linear_kernel.get_support_vectors()\n",
        "print(support_vectors)\n"
      ]
    },
    {
      "cell_type": "code",
      "execution_count": 23,
      "metadata": {
        "colab": {
          "base_uri": "https://localhost:8080/"
        },
        "id": "KjAjtVjHFJOx",
        "outputId": "1d04369c-5df4-4272-9673-30f5037bdd21"
      },
      "outputs": [
        {
          "name": "stdout",
          "output_type": "stream",
          "text": [
            "(4760,)\n",
            "(768,)\n"
          ]
        }
      ],
      "source": [
        "# weight = get_weight(og_alphas, X, Y)\n",
        "weight = linear_kernel.get_weight()\n",
        "print(weight.shape)"
      ]
    },
    {
      "cell_type": "markdown",
      "metadata": {
        "id": "c7baMLXTcOkp"
      },
      "source": [
        "Weight vector is printed above"
      ]
    },
    {
      "cell_type": "code",
      "execution_count": 24,
      "metadata": {
        "id": "-imK5rbzKRM7"
      },
      "outputs": [
        {
          "name": "stdout",
          "output_type": "stream",
          "text": [
            "[[9.99999987e-01 0.00000000e+00]\n",
            " [3.12992327e-08 1.00000000e+00]\n",
            " [1.46060173e-08 2.00000000e+00]\n",
            " ...\n",
            " [9.99999980e-01 4.75700000e+03]\n",
            " [6.49466639e-01 4.75800000e+03]\n",
            " [9.05839078e-01 4.75900000e+03]]\n"
          ]
        }
      ],
      "source": [
        "print(og_alphas)\n"
      ]
    },
    {
      "cell_type": "code",
      "execution_count": 25,
      "metadata": {
        "id": "PZGkaSrNNpjE"
      },
      "outputs": [
        {
          "name": "stdout",
          "output_type": "stream",
          "text": [
            "0.7250441038827395\n"
          ]
        }
      ],
      "source": [
        "# bias = get_bias(og_alphas, X, Y, weight, 1.0)\n",
        "bias = linear_kernel.get_bias()\n",
        "print(bias)\n",
        "# bias ="
      ]
    },
    {
      "cell_type": "markdown",
      "metadata": {
        "id": "Ce837oogcHzD"
      },
      "source": [
        "Bias is 0.725"
      ]
    },
    {
      "cell_type": "markdown",
      "metadata": {
        "id": "jzXTWU1Zg4cv"
      },
      "source": [
        "We get 2903 support vectors out of 4760 training examples. We take a margin of 1e0-5 for values of alpha.\n",
        "The percentage of suport vectors is 60.99 %"
      ]
    },
    {
      "cell_type": "code",
      "execution_count": 42,
      "metadata": {
        "id": "SQ6QTgXnMOK4"
      },
      "outputs": [],
      "source": [
        "# validation matrix\n",
        "folder_name = \"./svm/val/0\"\n",
        "\n",
        "\n",
        "new_shape = (16, 16)\n",
        "\n",
        "validation_eg = []\n",
        "answers = []\n",
        "correct , incorrect = 0,0\n",
        "for filename in os.listdir(folder_name):\n",
        "      answers.append(-1)\n",
        "      file = os.path.join(folder_name, filename)\n",
        "      temp = resize(file, new_shape)\n",
        "      validation_eg.append(temp)\n",
        "\n",
        "folder_name = \"./svm/val/1\"\n",
        "for filename in os.listdir(folder_name):\n",
        "      answers.append(1)\n",
        "      file = os.path.join(folder_name, filename)\n",
        "      temp = resize(file, new_shape)\n",
        "      validation_eg.append(temp)\n",
        "\n",
        "validation_eg = np.array(validation_eg)\n",
        "answers = np.array(answers)\n",
        "\n",
        "# X = np.vstack(X)\n",
        "\n"
      ]
    },
    {
      "cell_type": "code",
      "execution_count": 2,
      "metadata": {
        "id": "bp-8Ls8CUUir"
      },
      "outputs": [
        {
          "ename": "NameError",
          "evalue": "name 'linear_kernel' is not defined",
          "output_type": "error",
          "traceback": [
            "\u001b[1;31m---------------------------------------------------------------------------\u001b[0m",
            "\u001b[1;31mNameError\u001b[0m                                 Traceback (most recent call last)",
            "\u001b[1;32mc:\\Users\\Ashu Jain\\Downloads\\A2_2.ipynb Cell 21\u001b[0m line \u001b[0;36m1\n\u001b[1;32m----> <a href='vscode-notebook-cell:/c%3A/Users/Ashu%20Jain/Downloads/A2_2.ipynb#X26sZmlsZQ%3D%3D?line=0'>1</a>\u001b[0m ( confusion_matrix, accuracy) \u001b[39m=\u001b[39m linear_kernel\u001b[39m.\u001b[39mget_confusion_matrix(validation_eg, answers)\n\u001b[0;32m      <a href='vscode-notebook-cell:/c%3A/Users/Ashu%20Jain/Downloads/A2_2.ipynb#X26sZmlsZQ%3D%3D?line=1'>2</a>\u001b[0m \u001b[39mprint\u001b[39m(\u001b[39mf\u001b[39m\u001b[39m\"\u001b[39m\u001b[39maccuracy is \u001b[39m\u001b[39m{\u001b[39;00maccuracy\u001b[39m}\u001b[39;00m\u001b[39m\"\u001b[39m)\n",
            "\u001b[1;31mNameError\u001b[0m: name 'linear_kernel' is not defined"
          ]
        }
      ],
      "source": [
        "( confusion_matrix, accuracy) = linear_kernel.get_confusion_matrix(validation_eg, answers)\n",
        "print(f\"accuracy is {accuracy}\")"
      ]
    },
    {
      "cell_type": "markdown",
      "metadata": {
        "id": "iEen9AHzb_Yx"
      },
      "source": [
        "We get validation accuracy as 72.75 %"
      ]
    },
    {
      "cell_type": "code",
      "execution_count": 11,
      "metadata": {
        "id": "k6jc-pbHdgoT"
      },
      "outputs": [],
      "source": [
        "class Gaussian_Kernel(SVM):\n",
        "   def __init__(self, X, Y, C, gamma):\n",
        "      self.X = X\n",
        "      self.Y = Y\n",
        "      self.C = C\n",
        "      self.m = Y.shape[0]\n",
        "      self.gamma = gamma\n",
        "      print(\"here in gaussian\")\n",
        "      self.gaussian_kernel_matrix()\n",
        "      # print(self.kernel_matrix) \n",
        "      self.P = matrix(self.kernel_matrix)\n",
        "      self.q = matrix(np.full( (self.m, ), -1 ))\n",
        "\n",
        "      temp = np.full( (self.m, ) , 1)\n",
        "      temp2 = np.full( (self.m, ) , -1)\n",
        "      self.G = matrix(np.vstack( ( np.diag(temp2), np.diag(temp))  ) )\n",
        "\n",
        "      temp = np.full( (self.m, ), C)\n",
        "      self.h = matrix(np.hstack( ( np.zeros( (self.m, ) ), temp) ) )\n",
        "\n",
        "      self.A = matrix(np.vstack( (self.Y, )))\n",
        "      self.b = matrix(np.zeros( (1,) ))\n",
        "\n",
        "      self.P = matrix( np.array(self.P), tc='d')\n",
        "      self.q = matrix( np.array(self.q), tc='d')\n",
        "      self.G = matrix( np.array(self.G), tc='d')\n",
        "      self.h = matrix( np.array(self.h), tc='d')\n",
        "      self.A = matrix( np.array(self.A), tc='d')\n",
        "      self.b = matrix( np.array(self.b), tc='d')\n",
        "\n",
        "      self.soln = None\n",
        "      self.no_of_classes = 2\n",
        "\n",
        "\n",
        "   def kernel(self, x, y):\n",
        "    #  temp = x - y\n",
        "     norm_sq = (x - y).T @ (x - y)\n",
        "     return math.exp(-self.gamma * norm_sq)\n",
        "   \n",
        "   \n",
        "\n",
        "\n"
      ]
    },
    {
      "cell_type": "code",
      "execution_count": 12,
      "metadata": {
        "id": "_-JKRc6NhiOt"
      },
      "outputs": [
        {
          "name": "stdout",
          "output_type": "stream",
          "text": [
            "here in gaussian\n",
            "(4760, 4760)\n"
          ]
        }
      ],
      "source": [
        "C = 1.0\n",
        "gamma = 0.001\n",
        "gaussian_kernel = Gaussian_Kernel(X, Y, C, gamma)"
      ]
    },
    {
      "cell_type": "code",
      "execution_count": 15,
      "metadata": {
        "id": "otrg0FXKiZjS"
      },
      "outputs": [
        {
          "name": "stdout",
          "output_type": "stream",
          "text": [
            "     pcost       dcost       gap    pres   dres\n",
            " 0: -3.4913e+03 -1.3865e+04  6e+04  3e+00  4e-13\n",
            " 1: -2.4344e+03 -1.0060e+04  1e+04  2e-01  4e-13\n",
            " 2: -2.6495e+03 -3.7863e+03  1e+03  2e-02  4e-13\n",
            " 3: -3.0481e+03 -3.3180e+03  3e+02  4e-03  4e-13\n",
            " 4: -3.1344e+03 -3.2403e+03  1e+02  1e-03  4e-13\n",
            " 5: -3.1708e+03 -3.2049e+03  3e+01  3e-04  4e-13\n",
            " 6: -3.1840e+03 -3.1918e+03  8e+00  6e-05  4e-13\n",
            " 7: -3.1875e+03 -3.1883e+03  8e-01  4e-06  5e-13\n",
            " 8: -3.1879e+03 -3.1879e+03  4e-02  2e-07  5e-13\n",
            " 9: -3.1879e+03 -3.1879e+03  3e-03  1e-08  5e-13\n",
            "Optimal solution found.\n"
          ]
        }
      ],
      "source": [
        "soln2 = gaussian_kernel.solve()"
      ]
    },
    {
      "cell_type": "code",
      "execution_count": 121,
      "metadata": {
        "id": "sxarqFN3_VSo"
      },
      "outputs": [
        {
          "name": "stdout",
          "output_type": "stream",
          "text": [
            "4760 3453\n"
          ]
        },
        {
          "data": {
            "text/plain": [
              "-2.784077251037924"
            ]
          },
          "execution_count": 121,
          "metadata": {},
          "output_type": "execute_result"
        }
      ],
      "source": [
        "gaussian_kernel.get_support_vectors()\n",
        "gaussian_kernel.get_bias()"
      ]
    },
    {
      "cell_type": "code",
      "execution_count": 122,
      "metadata": {
        "id": "IYbszgJSfAqW"
      },
      "outputs": [
        {
          "name": "stdout",
          "output_type": "stream",
          "text": [
            "accuracy is 0.7775\n"
          ]
        }
      ],
      "source": [
        "(confusion_matrix, accuracy) = gaussian_kernel.get_confusion_matrix(validation_eg, answers)\n",
        "print(f\"accuracy is {accuracy}\")"
      ]
    },
    {
      "cell_type": "markdown",
      "metadata": {
        "id": "a4h4qWAhy3Nq"
      },
      "source": [
        "Gaussian kernel has accuracy"
      ]
    },
    {
      "cell_type": "code",
      "execution_count": 36,
      "metadata": {
        "id": "Kd7Fa9JNf7fI"
      },
      "outputs": [],
      "source": [
        "# plotting images\n",
        "def plot(svm, svm_name, flag = True ):\n",
        "  top_6 = svm.support_vectors[-6:]\n",
        "\n",
        "  # print(top_6)\n",
        "  top_6 = np.array([ (svm.X[ int(sv[1]) ]) * 255.0 for sv in top_6])\n",
        "  top_6 = np.array([ img.reshape((16,16,3)) for img in top_6])\n",
        "  cnt = 0\n",
        "  for img in top_6:\n",
        "\n",
        "    cnt += 1\n",
        "    cv2.imwrite(f\"img_{cnt}_{svm_name}.png\", img)\n",
        "\n",
        "  if (flag):\n",
        "    resized_weight = weight * 255.0\n",
        "    resized_weight = resized_weight.reshape( (16, 16, 3) )\n",
        "    cv2.imwrite(f\"weight_{svm_name}.png\", resized_weight)\n",
        "\n",
        "def get_common_support_vectors(svm1, svm2):\n",
        "    v1 = set( svm1.support_vectors[:, 1] )\n",
        "    v2 = set( svm2.support_vectors[:, 1]   )\n",
        "    print(f\"lens are {len(v1)} and {len(v2)}\")\n",
        "    common = v1 & v2 # intersection of two sets\n",
        "    return len(common)\n",
        "\n"
      ]
    },
    {
      "cell_type": "code",
      "execution_count": null,
      "metadata": {
        "id": "P82wFCCOnbo_"
      },
      "outputs": [],
      "source": [
        "plot(linear_kernel, \"Linear\")\n",
        "plot(gaussian_kernel, \"Gaussian\", False)\n",
        "print(get_common_support_vectors(linear_kernel, gaussian_kernel))\n"
      ]
    },
    {
      "cell_type": "markdown",
      "metadata": {
        "id": "xrU0QDIrx0C9"
      },
      "source": [
        "Linear kernel had 2903 (60.99 %) support vectors, and Gaussian has 3453 (72.54 %) support vectors. The common support vectors are 2698 (56.68 %) in count."
      ]
    },
    {
      "cell_type": "markdown",
      "metadata": {
        "id": "-SISNFZvzanC"
      },
      "source": [
        "Validation accuracy for Gaussian is 77.75 % (compared to 72.75 % for linear kernel, an increase of 5 %) ."
      ]
    },
    {
      "cell_type": "code",
      "execution_count": 28,
      "metadata": {
        "id": "WhqHAqnfFF-G"
      },
      "outputs": [],
      "source": [
        "# !pip install scikit\n",
        "from sklearn import svm"
      ]
    },
    {
      "cell_type": "code",
      "execution_count": 43,
      "metadata": {
        "id": "AQYSLe4FLv_R"
      },
      "outputs": [
        {
          "data": {
            "text/html": [
              "<style>#sk-container-id-3 {color: black;}#sk-container-id-3 pre{padding: 0;}#sk-container-id-3 div.sk-toggleable {background-color: white;}#sk-container-id-3 label.sk-toggleable__label {cursor: pointer;display: block;width: 100%;margin-bottom: 0;padding: 0.3em;box-sizing: border-box;text-align: center;}#sk-container-id-3 label.sk-toggleable__label-arrow:before {content: \"▸\";float: left;margin-right: 0.25em;color: #696969;}#sk-container-id-3 label.sk-toggleable__label-arrow:hover:before {color: black;}#sk-container-id-3 div.sk-estimator:hover label.sk-toggleable__label-arrow:before {color: black;}#sk-container-id-3 div.sk-toggleable__content {max-height: 0;max-width: 0;overflow: hidden;text-align: left;background-color: #f0f8ff;}#sk-container-id-3 div.sk-toggleable__content pre {margin: 0.2em;color: black;border-radius: 0.25em;background-color: #f0f8ff;}#sk-container-id-3 input.sk-toggleable__control:checked~div.sk-toggleable__content {max-height: 200px;max-width: 100%;overflow: auto;}#sk-container-id-3 input.sk-toggleable__control:checked~label.sk-toggleable__label-arrow:before {content: \"▾\";}#sk-container-id-3 div.sk-estimator input.sk-toggleable__control:checked~label.sk-toggleable__label {background-color: #d4ebff;}#sk-container-id-3 div.sk-label input.sk-toggleable__control:checked~label.sk-toggleable__label {background-color: #d4ebff;}#sk-container-id-3 input.sk-hidden--visually {border: 0;clip: rect(1px 1px 1px 1px);clip: rect(1px, 1px, 1px, 1px);height: 1px;margin: -1px;overflow: hidden;padding: 0;position: absolute;width: 1px;}#sk-container-id-3 div.sk-estimator {font-family: monospace;background-color: #f0f8ff;border: 1px dotted black;border-radius: 0.25em;box-sizing: border-box;margin-bottom: 0.5em;}#sk-container-id-3 div.sk-estimator:hover {background-color: #d4ebff;}#sk-container-id-3 div.sk-parallel-item::after {content: \"\";width: 100%;border-bottom: 1px solid gray;flex-grow: 1;}#sk-container-id-3 div.sk-label:hover label.sk-toggleable__label {background-color: #d4ebff;}#sk-container-id-3 div.sk-serial::before {content: \"\";position: absolute;border-left: 1px solid gray;box-sizing: border-box;top: 0;bottom: 0;left: 50%;z-index: 0;}#sk-container-id-3 div.sk-serial {display: flex;flex-direction: column;align-items: center;background-color: white;padding-right: 0.2em;padding-left: 0.2em;position: relative;}#sk-container-id-3 div.sk-item {position: relative;z-index: 1;}#sk-container-id-3 div.sk-parallel {display: flex;align-items: stretch;justify-content: center;background-color: white;position: relative;}#sk-container-id-3 div.sk-item::before, #sk-container-id-3 div.sk-parallel-item::before {content: \"\";position: absolute;border-left: 1px solid gray;box-sizing: border-box;top: 0;bottom: 0;left: 50%;z-index: -1;}#sk-container-id-3 div.sk-parallel-item {display: flex;flex-direction: column;z-index: 1;position: relative;background-color: white;}#sk-container-id-3 div.sk-parallel-item:first-child::after {align-self: flex-end;width: 50%;}#sk-container-id-3 div.sk-parallel-item:last-child::after {align-self: flex-start;width: 50%;}#sk-container-id-3 div.sk-parallel-item:only-child::after {width: 0;}#sk-container-id-3 div.sk-dashed-wrapped {border: 1px dashed gray;margin: 0 0.4em 0.5em 0.4em;box-sizing: border-box;padding-bottom: 0.4em;background-color: white;}#sk-container-id-3 div.sk-label label {font-family: monospace;font-weight: bold;display: inline-block;line-height: 1.2em;}#sk-container-id-3 div.sk-label-container {text-align: center;}#sk-container-id-3 div.sk-container {/* jupyter's `normalize.less` sets `[hidden] { display: none; }` but bootstrap.min.css set `[hidden] { display: none !important; }` so we also need the `!important` here to be able to override the default hidden behavior on the sphinx rendered scikit-learn.org. See: https://github.com/scikit-learn/scikit-learn/issues/21755 */display: inline-block !important;position: relative;}#sk-container-id-3 div.sk-text-repr-fallback {display: none;}</style><div id=\"sk-container-id-3\" class=\"sk-top-container\"><div class=\"sk-text-repr-fallback\"><pre>SVC(kernel=&#x27;linear&#x27;)</pre><b>In a Jupyter environment, please rerun this cell to show the HTML representation or trust the notebook. <br />On GitHub, the HTML representation is unable to render, please try loading this page with nbviewer.org.</b></div><div class=\"sk-container\" hidden><div class=\"sk-item\"><div class=\"sk-estimator sk-toggleable\"><input class=\"sk-toggleable__control sk-hidden--visually\" id=\"sk-estimator-id-3\" type=\"checkbox\" checked><label for=\"sk-estimator-id-3\" class=\"sk-toggleable__label sk-toggleable__label-arrow\">SVC</label><div class=\"sk-toggleable__content\"><pre>SVC(kernel=&#x27;linear&#x27;)</pre></div></div></div></div></div>"
            ],
            "text/plain": [
              "SVC(kernel='linear')"
            ]
          },
          "execution_count": 43,
          "metadata": {},
          "output_type": "execute_result"
        }
      ],
      "source": [
        "sk_linear_kernel = svm.SVC(C = 1.0, kernel = \"linear\")\n",
        "sk_linear_kernel.fit(X, Y)"
      ]
    },
    {
      "cell_type": "code",
      "execution_count": 44,
      "metadata": {
        "id": "tRCK9NTWM0R7"
      },
      "outputs": [
        {
          "name": "stdout",
          "output_type": "stream",
          "text": [
            "Correct : 336\n",
            "Incorrect : 64\n",
            "accuracy : 0.84\n"
          ]
        }
      ],
      "source": [
        "predictions = sk_linear_kernel.predict(validation_eg)\n",
        "correct , incorrect = 0,0\n",
        "\n",
        "# print(predictions.shape[0])\n",
        "\n",
        "for i in range(predictions.shape[0]):\n",
        "  if (predictions[i] == answers[i]): correct += 1\n",
        "  else : incorrect += 1\n",
        "\n",
        "print(f\"Correct : {correct}\")\n",
        "print(f\"Incorrect : {incorrect}\")\n",
        "print(f\"accuracy : {correct / (correct + incorrect)}\")\n"
      ]
    },
    {
      "cell_type": "code",
      "execution_count": 40,
      "metadata": {
        "id": "ysY_JLWkOiva"
      },
      "outputs": [
        {
          "data": {
            "text/html": [
              "<style>#sk-container-id-2 {color: black;}#sk-container-id-2 pre{padding: 0;}#sk-container-id-2 div.sk-toggleable {background-color: white;}#sk-container-id-2 label.sk-toggleable__label {cursor: pointer;display: block;width: 100%;margin-bottom: 0;padding: 0.3em;box-sizing: border-box;text-align: center;}#sk-container-id-2 label.sk-toggleable__label-arrow:before {content: \"▸\";float: left;margin-right: 0.25em;color: #696969;}#sk-container-id-2 label.sk-toggleable__label-arrow:hover:before {color: black;}#sk-container-id-2 div.sk-estimator:hover label.sk-toggleable__label-arrow:before {color: black;}#sk-container-id-2 div.sk-toggleable__content {max-height: 0;max-width: 0;overflow: hidden;text-align: left;background-color: #f0f8ff;}#sk-container-id-2 div.sk-toggleable__content pre {margin: 0.2em;color: black;border-radius: 0.25em;background-color: #f0f8ff;}#sk-container-id-2 input.sk-toggleable__control:checked~div.sk-toggleable__content {max-height: 200px;max-width: 100%;overflow: auto;}#sk-container-id-2 input.sk-toggleable__control:checked~label.sk-toggleable__label-arrow:before {content: \"▾\";}#sk-container-id-2 div.sk-estimator input.sk-toggleable__control:checked~label.sk-toggleable__label {background-color: #d4ebff;}#sk-container-id-2 div.sk-label input.sk-toggleable__control:checked~label.sk-toggleable__label {background-color: #d4ebff;}#sk-container-id-2 input.sk-hidden--visually {border: 0;clip: rect(1px 1px 1px 1px);clip: rect(1px, 1px, 1px, 1px);height: 1px;margin: -1px;overflow: hidden;padding: 0;position: absolute;width: 1px;}#sk-container-id-2 div.sk-estimator {font-family: monospace;background-color: #f0f8ff;border: 1px dotted black;border-radius: 0.25em;box-sizing: border-box;margin-bottom: 0.5em;}#sk-container-id-2 div.sk-estimator:hover {background-color: #d4ebff;}#sk-container-id-2 div.sk-parallel-item::after {content: \"\";width: 100%;border-bottom: 1px solid gray;flex-grow: 1;}#sk-container-id-2 div.sk-label:hover label.sk-toggleable__label {background-color: #d4ebff;}#sk-container-id-2 div.sk-serial::before {content: \"\";position: absolute;border-left: 1px solid gray;box-sizing: border-box;top: 0;bottom: 0;left: 50%;z-index: 0;}#sk-container-id-2 div.sk-serial {display: flex;flex-direction: column;align-items: center;background-color: white;padding-right: 0.2em;padding-left: 0.2em;position: relative;}#sk-container-id-2 div.sk-item {position: relative;z-index: 1;}#sk-container-id-2 div.sk-parallel {display: flex;align-items: stretch;justify-content: center;background-color: white;position: relative;}#sk-container-id-2 div.sk-item::before, #sk-container-id-2 div.sk-parallel-item::before {content: \"\";position: absolute;border-left: 1px solid gray;box-sizing: border-box;top: 0;bottom: 0;left: 50%;z-index: -1;}#sk-container-id-2 div.sk-parallel-item {display: flex;flex-direction: column;z-index: 1;position: relative;background-color: white;}#sk-container-id-2 div.sk-parallel-item:first-child::after {align-self: flex-end;width: 50%;}#sk-container-id-2 div.sk-parallel-item:last-child::after {align-self: flex-start;width: 50%;}#sk-container-id-2 div.sk-parallel-item:only-child::after {width: 0;}#sk-container-id-2 div.sk-dashed-wrapped {border: 1px dashed gray;margin: 0 0.4em 0.5em 0.4em;box-sizing: border-box;padding-bottom: 0.4em;background-color: white;}#sk-container-id-2 div.sk-label label {font-family: monospace;font-weight: bold;display: inline-block;line-height: 1.2em;}#sk-container-id-2 div.sk-label-container {text-align: center;}#sk-container-id-2 div.sk-container {/* jupyter's `normalize.less` sets `[hidden] { display: none; }` but bootstrap.min.css set `[hidden] { display: none !important; }` so we also need the `!important` here to be able to override the default hidden behavior on the sphinx rendered scikit-learn.org. See: https://github.com/scikit-learn/scikit-learn/issues/21755 */display: inline-block !important;position: relative;}#sk-container-id-2 div.sk-text-repr-fallback {display: none;}</style><div id=\"sk-container-id-2\" class=\"sk-top-container\"><div class=\"sk-text-repr-fallback\"><pre>SVC(gamma=0.001)</pre><b>In a Jupyter environment, please rerun this cell to show the HTML representation or trust the notebook. <br />On GitHub, the HTML representation is unable to render, please try loading this page with nbviewer.org.</b></div><div class=\"sk-container\" hidden><div class=\"sk-item\"><div class=\"sk-estimator sk-toggleable\"><input class=\"sk-toggleable__control sk-hidden--visually\" id=\"sk-estimator-id-2\" type=\"checkbox\" checked><label for=\"sk-estimator-id-2\" class=\"sk-toggleable__label sk-toggleable__label-arrow\">SVC</label><div class=\"sk-toggleable__content\"><pre>SVC(gamma=0.001)</pre></div></div></div></div></div>"
            ],
            "text/plain": [
              "SVC(gamma=0.001)"
            ]
          },
          "execution_count": 40,
          "metadata": {},
          "output_type": "execute_result"
        }
      ],
      "source": [
        "sk_gaussian_kernel = svm.SVC(C = 1.0, kernel = \"rbf\", gamma = 0.001)\n",
        "sk_gaussian_kernel.fit(X, Y)\n"
      ]
    },
    {
      "cell_type": "code",
      "execution_count": 41,
      "metadata": {
        "id": "8S4Efa5iO0V3"
      },
      "outputs": [
        {
          "name": "stdout",
          "output_type": "stream",
          "text": [
            "Correct : 311\n",
            "Incorrect : 89\n",
            "accuracy : 0.7775\n"
          ]
        }
      ],
      "source": [
        "predictions = sk_gaussian_kernel.predict(validation_eg)\n",
        "correct , incorrect = 0,0\n",
        "\n",
        "# print(predictions.shape[0])\n",
        "\n",
        "for i in range(predictions.shape[0]):\n",
        "  if (predictions[i] == answers[i]): correct += 1\n",
        "  else : incorrect += 1\n",
        "\n",
        "print(f\"Correct : {correct}\")\n",
        "print(f\"Incorrect : {incorrect}\")\n",
        "print(f\"accuracy : {correct / (correct + incorrect)}\")"
      ]
    },
    {
      "cell_type": "markdown",
      "metadata": {
        "id": "3_qpk6zrPTri"
      },
      "source": [
        "As can be observed, the accuracy obtained from the scikit learn SVM function is exactly the same as obtained from our implementation. Hence our model has been implemented correctly."
      ]
    },
    {
      "cell_type": "code",
      "execution_count": null,
      "metadata": {
        "id": "YN9bMpruPi9C"
      },
      "outputs": [],
      "source": [
        "linear_sv = sk_linear_kernel.support_\n",
        "gaussian_sv = sk_gaussian_kernel.support_\n",
        "# print(linear_sv)\n",
        "sk_set1 = set(linear_sv)\n",
        "sk_set2 = set(gaussian_sv)\n",
        "set1 = set( linear_kernel.support_vectors[:, 1] )\n",
        "set2 = set( gaussian_kernel.support_vectors[:, 1]   )\n",
        "\n",
        "print(f\"no of support vectors for sklearn linear svm is {len(sk_set1)}\")\n",
        "print(f\"no of support vectors for sklearn gaussian svm is {len(sk_set2)}\")\n",
        "print(f\"no of support vectors for  linear svm is {len(set1)}\")\n",
        "print(f\"no of support vectors for  gaussian svm is {len(set2)}\")\n",
        "\n",
        "print(f\"no of support vectors common for linear svm are {len(sk_set1 & set1)}\")\n",
        "print(f\"no of support vectors common for gaussian svm is {len(sk_set2 & set2)}\")\n"
      ]
    },
    {
      "cell_type": "markdown",
      "metadata": {
        "id": "KcU5MvRXRacG"
      },
      "source": [
        "no of support vectors for sklearn linear svm is 2899\n",
        "\n",
        "no of support vectors for sklearn gaussian svm is 3398\n",
        "\n",
        "no of support vectors for  linear svm is 2903\n",
        "\n",
        "no of support vectors for  gaussian svm is 3453\n",
        "\n",
        "no of support vectors common for linear svm are 2899\n",
        "\n",
        "no of support vectors common for gaussian svm is 3398\n",
        "\n",
        "From the numbers we conclude that the sv used in both of our implmented models are also used by the corresponding sklearn models, along with a few additional sv."
      ]
    },
    {
      "cell_type": "code",
      "execution_count": null,
      "metadata": {
        "id": "aWTXi--ARmwn"
      },
      "outputs": [],
      "source": [
        "sk_weight = sk_linear_kernel.coef_\n",
        "sk_bias = sk_linear_kernel.intercept_\n",
        "\n",
        "og_weight = linear_kernel.get_weight()\n",
        "og_bias = linear_kernel.get_bias()"
      ]
    },
    {
      "cell_type": "code",
      "execution_count": null,
      "metadata": {
        "id": "FVHXGdanSpnt"
      },
      "outputs": [],
      "source": [
        "# print(f\"weight obtained for sklearn linear svm is {sk_weight}\")\n",
        "print(f\"bias obtained for sklearn linear svm is {sk_bias}\")\n",
        "\n",
        "# print(f\"weight obtained for  linear svm is {og_weight}\")\n",
        "print(f\"bias obtained for  linear svm is {og_bias}\")\n"
      ]
    },
    {
      "cell_type": "code",
      "execution_count": null,
      "metadata": {
        "id": "28yY1rGrTr0v"
      },
      "outputs": [],
      "source": [
        "temp = (sk_weight[0] - og_weight )\n",
        "norm_sk = sk_weight[0].T @ sk_weight[0]\n",
        "norm = temp.T @ temp\n",
        "print(math.sqrt(norm/norm_sk) * 100 )"
      ]
    },
    {
      "cell_type": "markdown",
      "metadata": {
        "id": "35_6SaTJTcsi"
      },
      "source": [
        "bias obtained for sklearn linear svm is 0.7251\n",
        "bias obtained for  linear svm is 0.7251\n",
        "\n",
        "The biases obtained are identical, the weight vectors are also almost identical, the rms error being 0.247 %"
      ]
    },
    {
      "cell_type": "code",
      "execution_count": null,
      "metadata": {
        "id": "nD4Vjgr3UiIs"
      },
      "outputs": [],
      "source": [
        "time_1 = 149 + 134\n",
        "time_2 = 272 + 114\n",
        "time_3 = 12\n",
        "time_4 = 7\n",
        "print(f\"time taken by our linear svm is {time_1} sec\")\n",
        "print(f\"time taken by our gaussian svm is {time_2} sec\")\n",
        "print(f\"time taken by sklearn linear svm is {time_3} sec\")\n",
        "print(f\"time taken by sklearn gaussian svm is {time_4} sec\")"
      ]
    },
    {
      "cell_type": "markdown",
      "metadata": {
        "id": "8VKQw85IVAIS"
      },
      "source": [
        "time taken by our linear svm is 283 sec\n",
        "\n",
        "time taken by our gaussian svm is 386 sec\n",
        "\n",
        "time taken by sklearn linear svm is 12 sec\n",
        "\n",
        "time taken by sklearn gaussian svm is 7 sec\n",
        "\n",
        "Hence there is quite a reduction in the training time when using sklearn !!"
      ]
    },
    {
      "cell_type": "code",
      "execution_count": 51,
      "metadata": {
        "id": "tb5XGRZWe3bw"
      },
      "outputs": [],
      "source": [
        "\n",
        "class Multi_Class_SVM:\n",
        "  def __init__(self, X, Y, k, C, gamma):\n",
        "    self.m = X.shape[0]\n",
        "    # print(self.m)\n",
        "    self.X = X\n",
        "    self.Y = Y\n",
        "    self.no_of_classes = k\n",
        "    self.training_datasets = self.split_dataset()\n",
        "    self.C = C\n",
        "    self.gamma = gamma\n",
        "\n",
        "\n",
        "  def split_dataset(self):\n",
        "    temp = [[] for i in range(self.no_of_classes)]\n",
        "    # print(temp)\n",
        "    for i in range(self.m):\n",
        "      (temp[self.Y[i]]).append(self.X[i])\n",
        "\n",
        "    return np.array(temp)\n",
        "\n",
        "\n",
        "  def train(self):\n",
        "    self.model = np.full((self.no_of_classes, self.no_of_classes), None, dtype=object)\n",
        "    for i in range(self.no_of_classes):\n",
        "      for j in range(self.no_of_classes):\n",
        "        if (i == j or self.model[i,j] != None): continue\n",
        "        print(f\"training being done for classes {i} and {j}\")\n",
        "        X_ij = np.vstack( ( np.array(self.training_datasets[i]), np.array(self.training_datasets[j]) )  )\n",
        "        size1 = len(self.training_datasets[i])\n",
        "        size2 = len(self.training_datasets[j])\n",
        "        Y_ij = np.zeros( size1 + size2 )\n",
        "        for k in range(size1 ):\n",
        "          Y_ij[k] = -1\n",
        "        for k in range(size1, size1 + size2):\n",
        "          Y_ij[k] = 1\n",
        "        print(X_ij.shape, Y_ij.shape)\n",
        "        self.model[i,j] = Gaussian_Kernel(X_ij, Y_ij, self.C, self.gamma)\n",
        "        print(\"invoking solver now\") \n",
        "        (self.model[i,j]).solve()\n",
        "        print(\"solved\")\n",
        "        (self.model[i,j]).get_support_vectors()\n",
        "        (self.model[i,j]).get_bias()\n",
        "        self.model[j, i] = self.model[i,j]\n",
        "    print(\"training complete\")\n",
        "\n",
        "  def predict(self, eg):\n",
        "    scores = np.zeros( (self.no_of_classes, ))\n",
        "    counts =  np.zeros( (self.no_of_classes, ))\n",
        "    done = np.zeros((self.no_of_classes, self.no_of_classes))\n",
        "    for i in range(self.no_of_classes):\n",
        "      for j in range(self.no_of_classes):\n",
        "        if (i == j or done[i][j] == 1) : continue\n",
        "        done[i][j] = 1\n",
        "        done[j][i] = 1\n",
        "        # i is -1, j is one\n",
        "        (prediction, score) = self.model[i,j].predict(eg)\n",
        "        if (prediction == -1) : prediction = i\n",
        "        else : prediction = j\n",
        "        counts[prediction] += 1\n",
        "        if (score > 0) : scores[prediction] += score\n",
        "        else: scores[prediction] -= score\n",
        "\n",
        "    max_count = np.max(counts)\n",
        "    max_indices = np.where(counts == max_count)[0]\n",
        "    max_scores = np.array([(scores[i], i) for i in max_indices])\n",
        "    max_scores.sort()\n",
        "    return (max_scores[-1, 1], max_scores[-1, 0])\n",
        "\n",
        "  def get_confusion_matrix(self, test_eg, test_ans) :\n",
        "    size = test_eg.shape[0]\n",
        "    confusion_matrix = np.zeros( (self.no_of_classes, self.no_of_classes))\n",
        "    correct , incorrect = 0,0\n",
        "    for k in range(size):\n",
        "      (prediction, score) = self.predict(test_eg[k])\n",
        "      print(prediction, \"\\n\", test_ans[k]) \n",
        "      confusion_matrix[test_ans[k]][prediction] += 1\n",
        "      if (test_ans[k] == prediction) : correct += 1\n",
        "      else : incorrect +=  1\n",
        "\n",
        "    return (confusion_matrix, (correct / (correct + incorrect)))\n"
      ]
    },
    {
      "cell_type": "code",
      "execution_count": 24,
      "metadata": {},
      "outputs": [],
      "source": [
        "# design matrix\n",
        "folder_name = \"./svm/train/\"\n",
        "no_of_classes = 6\n",
        "classes = [i for i in range(no_of_classes)]\n",
        "X_full = tuple()\n",
        "new_shape = (16, 16)\n",
        "Y_full = np.array([], dtype = int)\n",
        "for label in classes:\n",
        "  for filename in os.listdir(f\"{folder_name}{label}\"):\n",
        "        file = os.path.join(f\"{folder_name}{label}\", filename)\n",
        "        Z = resize(file, new_shape)\n",
        "        X_full = X_full + ( Z[None , ...], )\n",
        "        Y_full = np.append(Y_full, label)\n",
        "\n",
        "X_full = np.vstack(X_full)\n",
        "\n"
      ]
    },
    {
      "cell_type": "code",
      "execution_count": 25,
      "metadata": {
        "id": "bvrWq1T-tELZ"
      },
      "outputs": [],
      "source": [
        "C = 1.0\n",
        "gamma = 0.001\n",
        "multiclass_classifier = Multi_Class_SVM(X_full, Y_full, no_of_classes, C, gamma)\n"
      ]
    },
    {
      "cell_type": "code",
      "execution_count": 26,
      "metadata": {},
      "outputs": [
        {
          "name": "stdout",
          "output_type": "stream",
          "text": [
            "training being done for classes 0 and 1\n",
            "(4760, 768) (4760,)\n",
            "here in gaussian\n",
            "(4760, 4760)\n",
            "invoking solver now\n",
            "     pcost       dcost       gap    pres   dres\n",
            " 0: -1.9395e+03 -1.4694e+04  9e+04  4e+00  2e-13\n",
            " 1: -1.2732e+03 -1.0479e+04  2e+04  4e-01  3e-13\n",
            " 2: -1.1848e+03 -2.6736e+03  1e+03  1e-12  2e-13\n",
            " 3: -1.4359e+03 -2.1033e+03  7e+02  1e-12  2e-13\n",
            " 4: -1.5028e+03 -1.9941e+03  5e+02  1e-12  2e-13\n",
            " 5: -1.5739e+03 -1.8706e+03  3e+02  7e-13  2e-13\n",
            " 6: -1.6195e+03 -1.7957e+03  2e+02  3e-13  2e-13\n",
            " 7: -1.6451e+03 -1.7555e+03  1e+02  5e-13  2e-13\n",
            " 8: -1.6663e+03 -1.7227e+03  6e+01  8e-13  2e-13\n",
            " 9: -1.6772e+03 -1.7069e+03  3e+01  1e-12  2e-13\n",
            "10: -1.6859e+03 -1.6950e+03  9e+00  1e-12  2e-13\n",
            "11: -1.6891e+03 -1.6907e+03  2e+00  7e-14  3e-13\n",
            "12: -1.6898e+03 -1.6899e+03  6e-02  1e-13  3e-13\n",
            "13: -1.6898e+03 -1.6898e+03  2e-03  1e-12  3e-13\n",
            "14: -1.6898e+03 -1.6898e+03  3e-05  3e-14  3e-13\n",
            "Optimal solution found.\n",
            "solved\n",
            "4760 1959\n",
            "training being done for classes 0 and 2\n",
            "(4760, 768) (4760,)\n",
            "here in gaussian\n",
            "(4760, 4760)\n",
            "invoking solver now\n",
            "     pcost       dcost       gap    pres   dres\n",
            " 0: -2.8766e+03 -1.4991e+04  8e+04  3e+00  4e-13\n",
            " 1: -1.9324e+03 -1.0949e+04  1e+04  2e-01  4e-13\n",
            " 2: -2.0563e+03 -3.5585e+03  2e+03  2e-02  3e-13\n",
            " 3: -2.4065e+03 -2.9050e+03  5e+02  6e-03  3e-13\n",
            " 4: -2.5331e+03 -2.7354e+03  2e+02  2e-03  3e-13\n",
            " 5: -2.5885e+03 -2.6600e+03  7e+01  5e-04  4e-13\n",
            " 6: -2.6122e+03 -2.6291e+03  2e+01  1e-04  4e-13\n",
            " 7: -2.6185e+03 -2.6211e+03  3e+00  4e-06  4e-13\n",
            " 8: -2.6196e+03 -2.6199e+03  3e-01  4e-07  4e-13\n",
            " 9: -2.6197e+03 -2.6197e+03  2e-02  3e-08  4e-13\n",
            "10: -2.6197e+03 -2.6197e+03  4e-04  4e-10  4e-13\n",
            "Optimal solution found.\n",
            "solved\n",
            "4760 2936\n",
            "training being done for classes 0 and 3\n",
            "(4760, 768) (4760,)\n",
            "here in gaussian\n",
            "(4760, 4760)\n",
            "invoking solver now\n",
            "     pcost       dcost       gap    pres   dres\n",
            " 0: -3.2182e+03 -1.5664e+04  8e+04  4e+00  4e-13\n",
            " 1: -2.2160e+03 -1.1647e+04  1e+04  2e-01  4e-13\n",
            " 2: -2.3972e+03 -3.7727e+03  1e+03  2e-02  4e-13\n",
            " 3: -2.7686e+03 -3.2851e+03  5e+02  6e-03  4e-13\n",
            " 4: -2.9294e+03 -3.0856e+03  2e+02  1e-03  4e-13\n",
            " 5: -2.9699e+03 -3.0408e+03  7e+01  5e-04  4e-13\n",
            " 6: -2.9884e+03 -3.0196e+03  3e+01  2e-04  4e-13\n",
            " 7: -2.9993e+03 -3.0071e+03  8e+00  3e-05  4e-13\n",
            " 8: -3.0022e+03 -3.0038e+03  2e+00  4e-06  4e-13\n",
            " 9: -3.0029e+03 -3.0030e+03  1e-01  1e-07  5e-13\n",
            "10: -3.0030e+03 -3.0030e+03  4e-03  4e-09  5e-13\n",
            "11: -3.0030e+03 -3.0030e+03  7e-05  8e-11  5e-13\n",
            "Optimal solution found.\n",
            "solved\n",
            "4760 3312\n",
            "training being done for classes 0 and 4\n",
            "(4760, 768) (4760,)\n",
            "here in gaussian\n",
            "(4760, 4760)\n",
            "invoking solver now\n",
            "     pcost       dcost       gap    pres   dres\n",
            " 0: -3.6806e+03 -1.5320e+04  7e+04  3e+00  4e-13\n",
            " 1: -2.5801e+03 -1.1260e+04  1e+04  7e-02  5e-13\n",
            " 2: -2.9308e+03 -4.3540e+03  1e+03  1e-02  4e-13\n",
            " 3: -3.4093e+03 -3.6673e+03  3e+02  2e-03  5e-13\n",
            " 4: -3.5129e+03 -3.5723e+03  6e+01  3e-04  5e-13\n",
            " 5: -3.5350e+03 -3.5510e+03  2e+01  5e-05  5e-13\n",
            " 6: -3.5416e+03 -3.5444e+03  3e+00  7e-06  5e-13\n",
            " 7: -3.5429e+03 -3.5431e+03  2e-01  4e-07  5e-13\n",
            " 8: -3.5430e+03 -3.5430e+03  9e-03  2e-08  5e-13\n",
            " 9: -3.5430e+03 -3.5430e+03  2e-04  5e-10  5e-13\n",
            "Optimal solution found.\n",
            "solved\n",
            "4760 3900\n",
            "training being done for classes 0 and 5\n",
            "(4760, 768) (4760,)\n",
            "here in gaussian\n",
            "(4760, 4760)\n",
            "invoking solver now\n",
            "     pcost       dcost       gap    pres   dres\n",
            " 0: -3.0574e+03 -1.3944e+04  7e+04  3e+00  3e-13\n",
            " 1: -2.0949e+03 -1.0000e+04  1e+04  2e-01  4e-13\n",
            " 2: -2.2664e+03 -3.4455e+03  1e+03  2e-02  3e-13\n",
            " 3: -2.6060e+03 -3.0010e+03  4e+02  5e-03  3e-13\n",
            " 4: -2.7146e+03 -2.8777e+03  2e+02  2e-03  4e-13\n",
            " 5: -2.7607e+03 -2.8255e+03  7e+01  6e-04  4e-13\n",
            " 6: -2.7809e+03 -2.8027e+03  2e+01  2e-04  4e-13\n",
            " 7: -2.7891e+03 -2.7934e+03  4e+00  2e-05  4e-13\n",
            " 8: -2.7909e+03 -2.7914e+03  5e-01  2e-06  4e-13\n",
            " 9: -2.7911e+03 -2.7911e+03  2e-02  5e-08  4e-13\n",
            "10: -2.7911e+03 -2.7911e+03  6e-04  2e-09  4e-13\n",
            "Optimal solution found.\n",
            "solved\n",
            "4760 3076\n",
            "training being done for classes 1 and 2\n",
            "(4760, 768) (4760,)\n",
            "here in gaussian\n",
            "(4760, 4760)\n",
            "invoking solver now\n",
            "     pcost       dcost       gap    pres   dres\n",
            " 0: -1.1862e+03 -1.2577e+04  7e+04  3e+00  1e-13\n",
            " 1: -7.3530e+02 -8.1288e+03  1e+04  4e-01  2e-13\n",
            " 2: -5.6464e+02 -1.6715e+03  1e+03  8e-03  1e-13\n",
            " 3: -6.6526e+02 -1.3787e+03  7e+02  5e-03  1e-13\n",
            " 4: -7.4976e+02 -1.1571e+03  4e+02  2e-03  1e-13\n",
            " 5: -7.7448e+02 -1.1038e+03  3e+02  2e-03  1e-13\n",
            " 6: -8.0486e+02 -1.0382e+03  2e+02  9e-04  1e-13\n",
            " 7: -8.3296e+02 -9.7753e+02  1e+02  3e-04  1e-13\n",
            " 8: -8.4691e+02 -9.5162e+02  1e+02  2e-04  1e-13\n",
            " 9: -8.6041e+02 -9.2699e+02  7e+01  1e-04  1e-13\n",
            "10: -8.7188e+02 -9.0728e+02  4e+01  5e-05  1e-13\n",
            "11: -8.7861e+02 -8.9634e+02  2e+01  2e-05  1e-13\n",
            "12: -8.8283e+02 -8.8975e+02  7e+00  6e-06  1e-13\n",
            "13: -8.8534e+02 -8.8636e+02  1e+00  7e-07  1e-13\n",
            "14: -8.8578e+02 -8.8581e+02  4e-02  2e-08  1e-13\n",
            "15: -8.8579e+02 -8.8579e+02  1e-03  4e-10  1e-13\n",
            "16: -8.8579e+02 -8.8579e+02  2e-05  8e-12  1e-13\n",
            "Optimal solution found.\n",
            "solved\n",
            "4760 1092\n",
            "training being done for classes 1 and 3\n",
            "(4760, 768) (4760,)\n",
            "here in gaussian\n",
            "(4760, 4760)\n",
            "invoking solver now\n",
            "     pcost       dcost       gap    pres   dres\n",
            " 0: -1.2211e+03 -1.2423e+04  7e+04  3e+00  2e-13\n",
            " 1: -7.6846e+02 -7.9398e+03  1e+04  3e-01  2e-13\n",
            " 2: -6.6968e+02 -1.7079e+03  1e+03  1e-02  1e-13\n",
            " 3: -7.8876e+02 -1.4050e+03  7e+02  7e-03  1e-13\n",
            " 4: -8.3698e+02 -1.3074e+03  5e+02  4e-03  1e-13\n",
            " 5: -8.7803e+02 -1.2172e+03  4e+02  3e-03  1e-13\n",
            " 6: -9.0812e+02 -1.1532e+03  3e+02  2e-03  1e-13\n",
            " 7: -9.2253e+02 -1.1245e+03  2e+02  1e-03  1e-13\n",
            " 8: -9.4204e+02 -1.0836e+03  1e+02  6e-04  1e-13\n",
            " 9: -9.5900e+02 -1.0525e+03  9e+01  4e-04  1e-13\n",
            "10: -9.6832e+02 -1.0359e+03  7e+01  2e-04  1e-13\n",
            "11: -9.8016e+02 -1.0160e+03  4e+01  1e-04  1e-13\n",
            "12: -9.8817e+02 -1.0029e+03  1e+01  4e-05  1e-13\n",
            "13: -9.9167e+02 -9.9741e+02  6e+00  1e-05  1e-13\n",
            "14: -9.9337e+02 -9.9500e+02  2e+00  7e-07  2e-13\n",
            "15: -9.9408e+02 -9.9421e+02  1e-01  1e-08  2e-13\n",
            "16: -9.9414e+02 -9.9414e+02  2e-03  2e-10  2e-13\n",
            "17: -9.9414e+02 -9.9414e+02  3e-05  2e-12  2e-13\n",
            "Optimal solution found.\n",
            "solved\n",
            "4760 1205\n",
            "training being done for classes 1 and 4\n",
            "(4760, 768) (4760,)\n",
            "here in gaussian\n",
            "(4760, 4760)\n",
            "invoking solver now\n",
            "     pcost       dcost       gap    pres   dres\n",
            " 0: -1.7666e+03 -1.4147e+04  9e+04  4e+00  2e-13\n",
            " 1: -1.1606e+03 -9.8269e+03  2e+04  4e-01  2e-13\n",
            " 2: -1.0209e+03 -2.4958e+03  1e+03  3e-03  2e-13\n",
            " 3: -1.2327e+03 -1.9086e+03  7e+02  1e-03  2e-13\n",
            " 4: -1.3069e+03 -1.7637e+03  5e+02  8e-04  2e-13\n",
            " 5: -1.3625e+03 -1.6577e+03  3e+02  5e-04  2e-13\n",
            " 6: -1.4021e+03 -1.5842e+03  2e+02  2e-04  2e-13\n",
            " 7: -1.4208e+03 -1.5514e+03  1e+02  1e-04  2e-13\n",
            " 8: -1.4451e+03 -1.5108e+03  7e+01  6e-05  2e-13\n",
            " 9: -1.4572e+03 -1.4912e+03  3e+01  3e-05  2e-13\n",
            "10: -1.4666e+03 -1.4772e+03  1e+01  6e-06  2e-13\n",
            "11: -1.4702e+03 -1.4722e+03  2e+00  5e-07  2e-13\n",
            "12: -1.4710e+03 -1.4712e+03  2e-01  2e-08  2e-13\n",
            "13: -1.4711e+03 -1.4711e+03  5e-03  5e-10  2e-13\n",
            "14: -1.4711e+03 -1.4711e+03  1e-04  1e-11  2e-13\n",
            "Optimal solution found.\n",
            "solved\n",
            "4760 1668\n",
            "training being done for classes 1 and 5\n",
            "(4760, 768) (4760,)\n",
            "here in gaussian\n",
            "(4760, 4760)\n",
            "invoking solver now\n",
            "     pcost       dcost       gap    pres   dres\n",
            " 0: -2.3074e+03 -1.3715e+04  7e+04  3e+00  3e-13\n",
            " 1: -1.5681e+03 -9.6837e+03  1e+04  3e-01  3e-13\n",
            " 2: -1.6388e+03 -3.1450e+03  2e+03  3e-02  3e-13\n",
            " 3: -1.9157e+03 -2.4874e+03  6e+02  8e-03  3e-13\n",
            " 4: -2.0450e+03 -2.2666e+03  2e+02  3e-03  3e-13\n",
            " 5: -2.1022e+03 -2.1810e+03  8e+01  8e-04  3e-13\n",
            " 6: -2.1239e+03 -2.1504e+03  3e+01  2e-04  3e-13\n",
            " 7: -2.1316e+03 -2.1401e+03  9e+00  5e-05  3e-13\n",
            " 8: -2.1350e+03 -2.1358e+03  9e-01  2e-06  3e-13\n",
            " 9: -2.1354e+03 -2.1354e+03  4e-02  6e-08  3e-13\n",
            "10: -2.1354e+03 -2.1354e+03  2e-03  2e-09  3e-13\n",
            "Optimal solution found.\n",
            "solved\n",
            "4760 2530\n",
            "training being done for classes 2 and 3\n",
            "(4760, 768) (4760,)\n",
            "here in gaussian\n",
            "(4760, 4760)\n",
            "invoking solver now\n",
            "     pcost       dcost       gap    pres   dres\n",
            " 0: -2.8758e+03 -1.3624e+04  7e+04  3e+00  4e-13\n",
            " 1: -1.9595e+03 -9.6788e+03  1e+04  2e-01  4e-13\n",
            " 2: -2.0715e+03 -3.2557e+03  1e+03  2e-02  3e-13\n",
            " 3: -2.3558e+03 -2.8433e+03  5e+02  7e-03  3e-13\n",
            " 4: -2.4556e+03 -2.7096e+03  3e+02  3e-03  3e-13\n",
            " 5: -2.5128e+03 -2.6332e+03  1e+02  1e-03  3e-13\n",
            " 6: -2.5419e+03 -2.5954e+03  5e+01  4e-04  3e-13\n",
            " 7: -2.5566e+03 -2.5768e+03  2e+01  1e-04  3e-13\n",
            " 8: -2.5633e+03 -2.5686e+03  5e+00  3e-05  4e-13\n",
            " 9: -2.5654e+03 -2.5661e+03  7e-01  2e-06  4e-13\n",
            "10: -2.5657e+03 -2.5657e+03  3e-02  8e-08  4e-13\n",
            "11: -2.5657e+03 -2.5657e+03  7e-04  2e-09  4e-13\n",
            "Optimal solution found.\n",
            "solved\n",
            "4760 2799\n",
            "training being done for classes 2 and 4\n",
            "(4760, 768) (4760,)\n",
            "here in gaussian\n",
            "(4760, 4760)\n",
            "invoking solver now\n",
            "     pcost       dcost       gap    pres   dres\n",
            " 0: -3.7670e+03 -1.3521e+04  6e+04  3e+00  4e-13\n",
            " 1: -2.6608e+03 -9.6850e+03  8e+03  1e-01  5e-13\n",
            " 2: -2.9764e+03 -4.0794e+03  1e+03  2e-02  4e-13\n",
            " 3: -3.3821e+03 -3.5942e+03  2e+02  2e-03  5e-13\n",
            " 4: -3.4575e+03 -3.5230e+03  7e+01  5e-04  5e-13\n",
            " 5: -3.4841e+03 -3.4966e+03  1e+01  8e-05  5e-13\n",
            " 6: -3.4892e+03 -3.4915e+03  2e+00  1e-05  5e-13\n",
            " 7: -3.4903e+03 -3.4904e+03  1e-01  6e-07  5e-13\n",
            " 8: -3.4904e+03 -3.4904e+03  5e-03  1e-08  5e-13\n",
            " 9: -3.4904e+03 -3.4904e+03  8e-05  2e-10  5e-13\n",
            "Optimal solution found.\n",
            "solved\n",
            "4760 3723\n",
            "training being done for classes 2 and 5\n",
            "(4760, 768) (4760,)\n",
            "here in gaussian\n",
            "(4760, 4760)\n",
            "invoking solver now\n",
            "     pcost       dcost       gap    pres   dres\n",
            " 0: -1.9576e+03 -1.4441e+04  8e+04  4e+00  3e-13\n",
            " 1: -1.2568e+03 -1.0271e+04  1e+04  3e-01  3e-13\n",
            " 2: -1.2202e+03 -2.4918e+03  1e+03  8e-03  2e-13\n",
            " 3: -1.4257e+03 -2.1480e+03  7e+02  4e-03  2e-13\n",
            " 4: -1.5378e+03 -1.9670e+03  4e+02  2e-03  2e-13\n",
            " 5: -1.6060e+03 -1.8625e+03  3e+02  1e-03  2e-13\n",
            " 6: -1.6538e+03 -1.7930e+03  1e+02  5e-04  2e-13\n",
            " 7: -1.6794e+03 -1.7570e+03  8e+01  3e-04  2e-13\n",
            " 8: -1.6937e+03 -1.7376e+03  4e+01  1e-04  2e-13\n",
            " 9: -1.7059e+03 -1.7211e+03  2e+01  3e-05  3e-13\n",
            "10: -1.7116e+03 -1.7139e+03  2e+00  3e-06  3e-13\n",
            "11: -1.7126e+03 -1.7127e+03  1e-01  1e-07  3e-13\n",
            "12: -1.7126e+03 -1.7127e+03  6e-03  6e-09  3e-13\n",
            "13: -1.7126e+03 -1.7126e+03  1e-04  9e-11  3e-13\n",
            "Optimal solution found.\n",
            "solved\n",
            "4760 2041\n",
            "training being done for classes 3 and 4\n",
            "(4760, 768) (4760,)\n",
            "here in gaussian\n",
            "(4760, 4760)\n",
            "invoking solver now\n",
            "     pcost       dcost       gap    pres   dres\n",
            " 0: -3.4913e+03 -1.3865e+04  6e+04  3e+00  4e-13\n",
            " 1: -2.4344e+03 -1.0060e+04  1e+04  2e-01  4e-13\n",
            " 2: -2.6495e+03 -3.7863e+03  1e+03  2e-02  4e-13\n",
            " 3: -3.0481e+03 -3.3180e+03  3e+02  4e-03  4e-13\n",
            " 4: -3.1344e+03 -3.2403e+03  1e+02  1e-03  4e-13\n",
            " 5: -3.1708e+03 -3.2049e+03  3e+01  3e-04  4e-13\n",
            " 6: -3.1840e+03 -3.1918e+03  8e+00  6e-05  4e-13\n",
            " 7: -3.1875e+03 -3.1883e+03  8e-01  4e-06  5e-13\n",
            " 8: -3.1879e+03 -3.1879e+03  4e-02  2e-07  5e-13\n",
            " 9: -3.1879e+03 -3.1879e+03  3e-03  1e-08  5e-13\n",
            "Optimal solution found.\n",
            "solved\n",
            "4760 3453\n",
            "training being done for classes 3 and 5\n",
            "(4760, 768) (4760,)\n",
            "here in gaussian\n",
            "(4760, 4760)\n",
            "invoking solver now\n",
            "     pcost       dcost       gap    pres   dres\n",
            " 0: -1.8816e+03 -1.4410e+04  9e+04  4e+00  2e-13\n",
            " 1: -1.2270e+03 -1.0135e+04  1e+04  3e-01  3e-13\n",
            " 2: -1.2355e+03 -2.6046e+03  1e+03  2e-02  2e-13\n",
            " 3: -1.4560e+03 -2.1438e+03  7e+02  7e-03  2e-13\n",
            " 4: -1.5724e+03 -1.9295e+03  4e+02  3e-03  2e-13\n",
            " 5: -1.6239e+03 -1.8454e+03  2e+02  2e-03  2e-13\n",
            " 6: -1.6599e+03 -1.7887e+03  1e+02  9e-04  2e-13\n",
            " 7: -1.6835e+03 -1.7528e+03  7e+01  5e-04  2e-13\n",
            " 8: -1.6980e+03 -1.7313e+03  3e+01  2e-04  2e-13\n",
            " 9: -1.7067e+03 -1.7191e+03  1e+01  5e-05  2e-13\n",
            "10: -1.7102e+03 -1.7144e+03  4e+00  1e-05  2e-13\n",
            "11: -1.7116e+03 -1.7125e+03  9e-01  3e-06  3e-13\n",
            "12: -1.7120e+03 -1.7121e+03  6e-02  6e-08  3e-13\n",
            "13: -1.7121e+03 -1.7121e+03  2e-03  2e-09  3e-13\n",
            "14: -1.7121e+03 -1.7121e+03  9e-05  9e-11  3e-13\n",
            "Optimal solution found.\n",
            "solved\n",
            "4760 2014\n",
            "training being done for classes 4 and 5\n",
            "(4760, 768) (4760,)\n",
            "here in gaussian\n",
            "(4760, 4760)\n",
            "invoking solver now\n",
            "     pcost       dcost       gap    pres   dres\n",
            " 0: -2.5309e+03 -1.2906e+04  6e+04  3e+00  3e-13\n",
            " 1: -1.7625e+03 -8.9340e+03  1e+04  2e-01  3e-13\n",
            " 2: -1.8756e+03 -2.9773e+03  1e+03  2e-02  3e-13\n",
            " 3: -2.0884e+03 -2.6796e+03  6e+02  9e-03  3e-13\n",
            " 4: -2.2268e+03 -2.4732e+03  3e+02  3e-03  3e-13\n",
            " 5: -2.2824e+03 -2.3990e+03  1e+02  1e-03  3e-13\n",
            " 6: -2.3134e+03 -2.3585e+03  5e+01  4e-04  3e-13\n",
            " 7: -2.3292e+03 -2.3386e+03  1e+01  6e-05  4e-13\n",
            " 8: -2.3327e+03 -2.3344e+03  2e+00  1e-05  3e-13\n",
            " 9: -2.3334e+03 -2.3335e+03  8e-02  3e-07  4e-13\n",
            "10: -2.3335e+03 -2.3335e+03  3e-03  6e-09  4e-13\n",
            "11: -2.3335e+03 -2.3335e+03  6e-05  1e-10  4e-13\n",
            "Optimal solution found.\n",
            "solved\n",
            "4760 2631\n",
            "training complete\n"
          ]
        }
      ],
      "source": [
        "multiclass_classifier.train()"
      ]
    },
    {
      "cell_type": "code",
      "execution_count": 68,
      "metadata": {
        "colab": {
          "base_uri": "https://localhost:8080/",
          "height": 74
        },
        "id": "aBMvRTZC1SvP",
        "outputId": "194afcb6-e396-4124-8e0d-d26ed999a2ee"
      },
      "outputs": [
        {
          "data": {
            "text/html": [
              "<style>#sk-container-id-4 {color: black;}#sk-container-id-4 pre{padding: 0;}#sk-container-id-4 div.sk-toggleable {background-color: white;}#sk-container-id-4 label.sk-toggleable__label {cursor: pointer;display: block;width: 100%;margin-bottom: 0;padding: 0.3em;box-sizing: border-box;text-align: center;}#sk-container-id-4 label.sk-toggleable__label-arrow:before {content: \"▸\";float: left;margin-right: 0.25em;color: #696969;}#sk-container-id-4 label.sk-toggleable__label-arrow:hover:before {color: black;}#sk-container-id-4 div.sk-estimator:hover label.sk-toggleable__label-arrow:before {color: black;}#sk-container-id-4 div.sk-toggleable__content {max-height: 0;max-width: 0;overflow: hidden;text-align: left;background-color: #f0f8ff;}#sk-container-id-4 div.sk-toggleable__content pre {margin: 0.2em;color: black;border-radius: 0.25em;background-color: #f0f8ff;}#sk-container-id-4 input.sk-toggleable__control:checked~div.sk-toggleable__content {max-height: 200px;max-width: 100%;overflow: auto;}#sk-container-id-4 input.sk-toggleable__control:checked~label.sk-toggleable__label-arrow:before {content: \"▾\";}#sk-container-id-4 div.sk-estimator input.sk-toggleable__control:checked~label.sk-toggleable__label {background-color: #d4ebff;}#sk-container-id-4 div.sk-label input.sk-toggleable__control:checked~label.sk-toggleable__label {background-color: #d4ebff;}#sk-container-id-4 input.sk-hidden--visually {border: 0;clip: rect(1px 1px 1px 1px);clip: rect(1px, 1px, 1px, 1px);height: 1px;margin: -1px;overflow: hidden;padding: 0;position: absolute;width: 1px;}#sk-container-id-4 div.sk-estimator {font-family: monospace;background-color: #f0f8ff;border: 1px dotted black;border-radius: 0.25em;box-sizing: border-box;margin-bottom: 0.5em;}#sk-container-id-4 div.sk-estimator:hover {background-color: #d4ebff;}#sk-container-id-4 div.sk-parallel-item::after {content: \"\";width: 100%;border-bottom: 1px solid gray;flex-grow: 1;}#sk-container-id-4 div.sk-label:hover label.sk-toggleable__label {background-color: #d4ebff;}#sk-container-id-4 div.sk-serial::before {content: \"\";position: absolute;border-left: 1px solid gray;box-sizing: border-box;top: 0;bottom: 0;left: 50%;z-index: 0;}#sk-container-id-4 div.sk-serial {display: flex;flex-direction: column;align-items: center;background-color: white;padding-right: 0.2em;padding-left: 0.2em;position: relative;}#sk-container-id-4 div.sk-item {position: relative;z-index: 1;}#sk-container-id-4 div.sk-parallel {display: flex;align-items: stretch;justify-content: center;background-color: white;position: relative;}#sk-container-id-4 div.sk-item::before, #sk-container-id-4 div.sk-parallel-item::before {content: \"\";position: absolute;border-left: 1px solid gray;box-sizing: border-box;top: 0;bottom: 0;left: 50%;z-index: -1;}#sk-container-id-4 div.sk-parallel-item {display: flex;flex-direction: column;z-index: 1;position: relative;background-color: white;}#sk-container-id-4 div.sk-parallel-item:first-child::after {align-self: flex-end;width: 50%;}#sk-container-id-4 div.sk-parallel-item:last-child::after {align-self: flex-start;width: 50%;}#sk-container-id-4 div.sk-parallel-item:only-child::after {width: 0;}#sk-container-id-4 div.sk-dashed-wrapped {border: 1px dashed gray;margin: 0 0.4em 0.5em 0.4em;box-sizing: border-box;padding-bottom: 0.4em;background-color: white;}#sk-container-id-4 div.sk-label label {font-family: monospace;font-weight: bold;display: inline-block;line-height: 1.2em;}#sk-container-id-4 div.sk-label-container {text-align: center;}#sk-container-id-4 div.sk-container {/* jupyter's `normalize.less` sets `[hidden] { display: none; }` but bootstrap.min.css set `[hidden] { display: none !important; }` so we also need the `!important` here to be able to override the default hidden behavior on the sphinx rendered scikit-learn.org. See: https://github.com/scikit-learn/scikit-learn/issues/21755 */display: inline-block !important;position: relative;}#sk-container-id-4 div.sk-text-repr-fallback {display: none;}</style><div id=\"sk-container-id-4\" class=\"sk-top-container\"><div class=\"sk-text-repr-fallback\"><pre>SVC(gamma=0.001)</pre><b>In a Jupyter environment, please rerun this cell to show the HTML representation or trust the notebook. <br />On GitHub, the HTML representation is unable to render, please try loading this page with nbviewer.org.</b></div><div class=\"sk-container\" hidden><div class=\"sk-item\"><div class=\"sk-estimator sk-toggleable\"><input class=\"sk-toggleable__control sk-hidden--visually\" id=\"sk-estimator-id-4\" type=\"checkbox\" checked><label for=\"sk-estimator-id-4\" class=\"sk-toggleable__label sk-toggleable__label-arrow\">SVC</label><div class=\"sk-toggleable__content\"><pre>SVC(gamma=0.001)</pre></div></div></div></div></div>"
            ],
            "text/plain": [
              "SVC(gamma=0.001)"
            ]
          },
          "execution_count": 68,
          "metadata": {},
          "output_type": "execute_result"
        }
      ],
      "source": [
        "\n",
        "sk_multiclass_classifier = svm.SVC(C = C, gamma = gamma, kernel = \"rbf\")\n",
        "# , decision_function_shape = \"ovr\",break_ties = True)\n",
        "sk_multiclass_classifier.fit(X_full, Y_full)"
      ]
    },
    {
      "cell_type": "code",
      "execution_count": 31,
      "metadata": {
        "id": "rilDwXgUIydV"
      },
      "outputs": [],
      "source": [
        "# design matrix\n",
        "folder_name = \"./svm/val/\"\n",
        "no_of_classes = 6\n",
        "classes = [i for i in range(no_of_classes)]\n",
        "X_val_full = tuple()\n",
        "new_shape = (16, 16)\n",
        "Y_val_full = np.array([], dtype = int)\n",
        "for label in classes:\n",
        "  for filename in os.listdir(f\"{folder_name}{label}\"):\n",
        "        file = os.path.join(f\"{folder_name}{label}\", filename)\n",
        "        Z = resize(file, new_shape)\n",
        "        X_val_full = X_val_full + ( Z[None , ...], )\n",
        "        Y_val_full = np.append(Y_val_full, label)\n",
        "\n",
        "X_val_full = np.vstack(X_val_full)"
      ]
    },
    {
      "cell_type": "code",
      "execution_count": 32,
      "metadata": {},
      "outputs": [],
      "source": [
        "\n",
        "def draw_confusion_matrix( confusion_matrix, name):\n",
        "    \n",
        "        correct = 0 \n",
        "        total = 0 \n",
        "        fig, ax = plt.subplots(figsize=(10,10))\n",
        "        ax.matshow(confusion_matrix, cmap=plt.cm.Blues, alpha=0.3) \n",
        "        max_diag = 0 \n",
        "        max_diag_label = 0\n",
        "        for i in range(confusion_matrix.shape[0]):\n",
        "            for j in range(confusion_matrix.shape[1]):\n",
        "                total += confusion_matrix[i,j]\n",
        "                if (i == j) : \n",
        "                    correct += confusion_matrix[i,j]\n",
        "                    if (max_diag < confusion_matrix[i,j]):\n",
        "                        max_diag = confusion_matrix[i,j]\n",
        "                        max_diag_label = i\n",
        "    \n",
        "                ax.text(x=j, y=i,s= confusion_matrix[i, j], va='center', ha='center', size='xx-large')\n",
        "        \n",
        "        plt.xlabel('Predictions', fontsize=18)\n",
        "        plt.ylabel('Actuals', fontsize=18)\n",
        "        plt.title('Confusion Matrix', fontsize=18)\n",
        "        plt.savefig(f\"confusion_matrix_{name}.png\")\n",
        "        # plt.show()\n",
        "        print(f\"accuracy is {correct/total}\")\n",
        "        print(f\"label with max diagonal is {max_diag_label}\")"
      ]
    },
    {
      "cell_type": "code",
      "execution_count": 101,
      "metadata": {},
      "outputs": [
        {
          "name": "stdout",
          "output_type": "stream",
          "text": [
            "accuracy is 0.5558333333333333\n",
            "accuracy is 0.5558333333333333\n",
            "label with max diagonal is 1\n"
          ]
        },
        {
          "data": {
            "image/png": "[encoded data removed]",
            "text/plain": [
              "<Figure size 1000x1000 with 1 Axes>"
            ]
          },
          "metadata": {},
          "output_type": "display_data"
        }
      ],
      "source": [
        "misclassifications = [[[] for i in range(no_of_classes)] for j in range(no_of_classes)] \n",
        "def predict(self, eg):\n",
        "    scores = np.zeros( (self.no_of_classes, ))\n",
        "    counts =  np.zeros( (self.no_of_classes, ))\n",
        "    done = np.zeros((self.no_of_classes, self.no_of_classes))\n",
        "    for i in range(self.no_of_classes):\n",
        "      for j in range(self.no_of_classes):\n",
        "        if (i == j or done[i][j] == 1) : continue\n",
        "        done[i][j] = 1\n",
        "        done[j][i] = 1\n",
        "        # i is -1, j is one\n",
        "        (prediction, score) = self.model[i,j].predict(eg)\n",
        "        if (prediction == -1) : prediction = i\n",
        "        else : prediction = j\n",
        "        counts[prediction] += 1\n",
        "        if (score > 0) : scores[prediction] += score\n",
        "        else: scores[prediction] -= score\n",
        "\n",
        "    # print(counts)\n",
        "    max_count = np.max(counts)\n",
        "    max_indices = np.where(counts == max_count)[0]\n",
        "    # print(max_indices)\n",
        "    max_scores = np.array([ (scores[i], i) for i in max_indices])\n",
        "    # print(max_scores)\n",
        "    sorted_indices = np.argsort(max_scores[:, 1])\n",
        "    max_scores = max_scores[sorted_indices]\n",
        "    # max_scores.sort()\n",
        "    # print(max_scores)\n",
        "    return (max_scores[-1, 1], max_scores[-1, 0])\n",
        "\n",
        "def get_confusion_matrix(self, test_eg, test_ans) :\n",
        "    size = test_eg.shape[0]\n",
        "    confusion_matrix = np.zeros( (self.no_of_classes, self.no_of_classes))\n",
        "    correct , incorrect = 0,0\n",
        "    for k in range(size):\n",
        "        (prediction, score) = predict(self, test_eg[k])\n",
        "        # print(prediction, \"\\n\", test_ans[k]) \n",
        "        # print(\"prediction is \", prediction) \n",
        "        misclassifications[test_ans[k]][int(prediction)].append(test_eg[k])  \n",
        "        confusion_matrix[test_ans[k]][int(prediction)] += 1 \n",
        "        if (test_ans[k] == prediction) : correct += 1\n",
        "        else : incorrect +=  1\n",
        "\n",
        "    return (confusion_matrix, (correct / (correct + incorrect)))\n",
        "\n",
        "\n",
        "(confusion_matrix, accuracy) = get_confusion_matrix(multiclass_classifier, X_val_full, Y_val_full) \n",
        "print(f\"accuracy is {accuracy}\")\n",
        "draw_confusion_matrix(confusion_matrix, \"our_multiclass\")"
      ]
    },
    {
      "cell_type": "code",
      "execution_count": 106,
      "metadata": {},
      "outputs": [],
      "source": [
        "# visualising error images \n",
        "cnt = 0 \n",
        "for img in misclassifications[4][2]:\n",
        "    if (cnt > 2): break\n",
        "    cnt += 1 \n",
        "    img = img * 255.0\n",
        "    img = img.reshape((16,16,3))\n",
        "    cv2.imwrite(f\"img_4_2_{cnt}.png\", img)\n",
        "cnt = 0 \n",
        "for img in misclassifications[4][3]:\n",
        "    if (cnt > 2): break\n",
        "    cnt += 1 \n",
        "    img = img * 255.0\n",
        "    img = img.reshape((16,16,3))\n",
        "    cv2.imwrite(f\"img_4_3_{cnt}.png\", img)\n",
        "cnt = 0 \n",
        "for img in misclassifications[0][3]:\n",
        "    if (cnt > 2): break\n",
        "    cnt += 1 \n",
        "    img = img * 255.0\n",
        "    img = img.reshape((16,16,3))\n",
        "    cv2.imwrite(f\"img_0_3_{cnt}.png\", img)\n",
        "cnt = 0 \n",
        "for img in misclassifications[1][5]:\n",
        "    if (cnt > 2): break\n",
        "    cnt += 1 \n",
        "    img = img * 255.0\n",
        "    img = img.reshape((16,16,3))\n",
        "    cv2.imwrite(f\"img_1_5_{cnt}.png\", img)\n",
        "\n",
        "\n",
        "# resized_weight = weight * 255.0\n",
        "# resized_weight = resized_weight.reshape( (16, 16, 3) )\n",
        "# cv2.imwrite(f\"weight_{svm_name}.png\", resized_weight)"
      ]
    },
    {
      "cell_type": "markdown",
      "metadata": {},
      "source": [
        "set 0 has images of houses and buildings, 1 has of forests and greenery, 2 has of ice and glaciers, 3 has of cloudy sky and mountains, 4 has of coasts and oceans,  5 of cities. \n",
        "\n",
        "Of these the most frequent pair of misclassified classes are (first is actual, second is prediction) : \n",
        "(4,2), (4,3), (0,3), (1,5). \n",
        "Based on the above observations, it is easy to make sense of the visualisations of the misclassified examples as showm. For eg - images of 4 and 2 both are predominantly white and blue, thus they are misclassified as each other the most. \n",
        "Similiar logic holds for 4 and 3, and so on. "
      ]
    },
    {
      "cell_type": "code",
      "execution_count": 69,
      "metadata": {
        "colab": {
          "base_uri": "https://localhost:8080/"
        },
        "id": "ESrsyH3_7PuW",
        "outputId": "e79dc587-5e11-471a-b37f-cd97fcae4771"
      },
      "outputs": [
        {
          "name": "stdout",
          "output_type": "stream",
          "text": [
            "Correct : 670\n",
            "Incorrect : 530\n",
            "accuracy : 0.5583333333333333\n",
            "accuracy is 0.5583333333333333\n",
            "label with max diagonal is 1\n"
          ]
        },
        {
          "data": {
            "image/png": "[encoded data removed]",
            "text/plain": [
              "<Figure size 1000x1000 with 1 Axes>"
            ]
          },
          "metadata": {},
          "output_type": "display_data"
        }
      ],
      "source": [
        "predictions = sk_multiclass_classifier.predict(X_val_full)\n",
        "correct , incorrect = 0,0\n",
        "\n",
        "# print(predictions.shape[0])\n",
        "sk_confusion_matrix = np.array( [[0 for i in range(no_of_classes)] for j in range(no_of_classes)] ) \n",
        "\n",
        "for i in range(predictions.shape[0]):\n",
        "  # print(predictions[i], Y_val_full[i])\n",
        "  sk_confusion_matrix[Y_val_full[i]][predictions[i]] += 1\n",
        "  if (predictions[i] == Y_val_full[i]): correct += 1\n",
        "  else : incorrect += 1\n",
        "\n",
        "print(f\"Correct : {correct}\")\n",
        "print(f\"Incorrect : {incorrect}\")\n",
        "print(f\"accuracy : {correct / (correct + incorrect)}\")\n",
        "draw_confusion_matrix(sk_confusion_matrix, \"sklearn_multiclass\")\n"
      ]
    },
    {
      "cell_type": "markdown",
      "metadata": {},
      "source": [
        "Each class has 200 samples in the validation set. The confusion matrices obtained from our implementation and from sklearn are largely similiar, differing by only a small amt. \n",
        "We also observe that class 1 is classified most correctly, whereas class 4 is the least correctly classifed class. \n",
        "The largest off diagonal entry is (4,2), which means that most misclassifications have been done for class 4 where it was confused for class 2 (58 examples). Similarly we observe that class 0 is misclassified most frequently as class 5, 1 as 5, 3 as 2, 4 as 2, 5 as 0. \n",
        "\n"
      ]
    },
    {
      "cell_type": "markdown",
      "metadata": {},
      "source": [
        "# Cross Validation"
      ]
    },
    {
      "cell_type": "code",
      "execution_count": 91,
      "metadata": {},
      "outputs": [],
      "source": [
        "k = 5 \n",
        "def get_splits(x,y,k):\n",
        "    m = x.shape[0]\n",
        "    splits = []\n",
        "    for i in range(k):\n",
        "        splits.append( (x[int(i*m/k) : int((i+1)*m/k)], y[int(i*m/k) : int((i+1)*m/k)]) )\n",
        "    \n",
        "    val_splits = [] \n",
        "    for i in range(k):\n",
        "        val_split = [] \n",
        "        for j in range(k):\n",
        "            if (i == j): continue\n",
        "            val_split.append(splits[j]) \n",
        "        x_tup = [] \n",
        "        y_tup = []\n",
        "        for s in val_split:\n",
        "            x_tup.append(s[0])\n",
        "            y_tup.append(s[1]) \n",
        "        x_tup = np.vstack(tuple(x_tup)) \n",
        "        y_tup = np.hstack(tuple(y_tup))\n",
        "        val_splits.append((x_tup, y_tup)) \n",
        "    return (val_splits, (splits)) "
      ]
    },
    {
      "cell_type": "code",
      "execution_count": 92,
      "metadata": {},
      "outputs": [
        {
          "name": "stdout",
          "output_type": "stream",
          "text": [
            "(11424, 768) (11424,)\n",
            "(11424, 768) (11424,)\n",
            "(11424, 768) (11424,)\n",
            "(11424, 768) (11424,)\n",
            "(11424, 768) (11424,)\n"
          ]
        }
      ],
      "source": [
        "perm = np.random.permutation([i for i in range(X_full.shape[0])]) \n",
        "combined_x = np.zeros(X_full.shape)\n",
        "combined_y = np.zeros(Y_full.shape)\n",
        "for i in range(X_full.shape[0]):\n",
        "    combined_x[i] = X_full[perm[i]]\n",
        "    combined_y[i] = Y_full[perm[i]] \n",
        "\n",
        "(splits, og_splits) = get_splits(combined_x, combined_y, k)\n",
        "for split in splits:\n",
        "    print(split[0].shape, split[1].shape)\n"
      ]
    },
    {
      "cell_type": "code",
      "execution_count": 110,
      "metadata": {},
      "outputs": [
        {
          "name": "stdout",
          "output_type": "stream",
          "text": [
            "for model 0 and dataset 0, correct : 463 and incorrect : 2393\n",
            "for model 0 and dataset 1, correct : 437 and incorrect : 2419\n",
            "for model 0 and dataset 2, correct : 462 and incorrect : 2394\n",
            "for model 0 and dataset 3, correct : 462 and incorrect : 2394\n",
            "for model 0 and dataset 4, correct : 454 and incorrect : 2402\n",
            "for model 0 validation, correct : 482 and incorrect : 718\n",
            "for model 1 and dataset 0, correct : 463 and incorrect : 2393\n",
            "for model 1 and dataset 1, correct : 437 and incorrect : 2419\n",
            "for model 1 and dataset 2, correct : 462 and incorrect : 2394\n",
            "for model 1 and dataset 3, correct : 462 and incorrect : 2394\n",
            "for model 1 and dataset 4, correct : 454 and incorrect : 2402\n",
            "for model 1 validation, correct : 482 and incorrect : 718\n",
            "for model 2 and dataset 0, correct : 1567 and incorrect : 1289\n",
            "for model 2 and dataset 1, correct : 1571 and incorrect : 1285\n",
            "for model 2 and dataset 2, correct : 1628 and incorrect : 1228\n",
            "for model 2 and dataset 3, correct : 1575 and incorrect : 1281\n",
            "for model 2 and dataset 4, correct : 1526 and incorrect : 1330\n",
            "for model 2 validation, correct : 671 and incorrect : 529\n",
            "for model 3 and dataset 0, correct : 1647 and incorrect : 1209\n",
            "for model 3 and dataset 1, correct : 1662 and incorrect : 1194\n",
            "for model 3 and dataset 2, correct : 1694 and incorrect : 1162\n",
            "for model 3 and dataset 3, correct : 1649 and incorrect : 1207\n",
            "for model 3 and dataset 4, correct : 1623 and incorrect : 1233\n",
            "for model 3 validation, correct : 711 and incorrect : 489\n",
            "for model 4 and dataset 0, correct : 1688 and incorrect : 1168\n",
            "for model 4 and dataset 1, correct : 1675 and incorrect : 1181\n",
            "for model 4 and dataset 2, correct : 1727 and incorrect : 1129\n",
            "for model 4 and dataset 3, correct : 1677 and incorrect : 1179\n",
            "for model 4 and dataset 4, correct : 1680 and incorrect : 1176\n",
            "for model 4 validation, correct : 730 and incorrect : 470\n",
            "[0.15952381 0.15952381 0.55091036 0.57948179 0.59152661]\n",
            "[0.40166667 0.40166667 0.55916667 0.5925     0.60833333]\n"
          ]
        }
      ],
      "source": [
        "C_arr = np.array([1e-05, 1e-03, 1, 5, 10]) \n",
        "cross_validation_ac = np.zeros(C_arr.shape)\n",
        "validation_ac = np.zeros(C_arr.shape)\n",
        "k = 5 \n",
        "for j in range( C_arr.shape[0]):\n",
        "    avg = 0 \n",
        "    for i in range(k):\n",
        "        correct = 0\n",
        "        incorrect = 0 \n",
        "        sk_model = svm.SVC(C = C_arr[j] , kernel = \"rbf\", gamma = 0.001) \n",
        "        sk_model.fit(splits[i][0], splits[i][1]) \n",
        "        predictions = sk_model.predict(og_splits[i][0]) \n",
        "\n",
        "        for w in range(og_splits[i][1].shape[0]):\n",
        "            if (predictions[w] == og_splits[i][1][w]): correct += 1\n",
        "            else : incorrect += 1\n",
        "        print(f\"for model {j} and dataset {i}, correct : {correct} and incorrect : {incorrect}\") \n",
        "        accuracy = correct / (correct + incorrect) \n",
        "        avg += accuracy\n",
        "    avg /= k \n",
        "    cross_validation_ac[j] = avg \n",
        "    sk_full_model = svm.SVC(C = C_arr[j] , kernel = \"rbf\", gamma = 0.001) \n",
        "    sk_full_model.fit(combined_x,  combined_y) \n",
        "    predictions = sk_full_model.predict(X_val_full) \n",
        "    correct = 0\n",
        "    incorrect = 0\n",
        "    for w in range(Y_val_full.shape[0]):\n",
        "        if (predictions[w] == Y_val_full[w]): correct += 1\n",
        "        else : incorrect += 1\n",
        "    print(f\"for model {j} validation, correct : {correct} and incorrect : {incorrect}\") \n",
        "    accuracy = correct / (correct + incorrect)\n",
        "    validation_ac[j] = accuracy\n",
        "print(cross_validation_ac)\n",
        "print(validation_ac)"
      ]
    },
    {
      "cell_type": "code",
      "execution_count": 122,
      "metadata": {},
      "outputs": [
        {
          "name": "stdout",
          "output_type": "stream",
          "text": [
            "for model 0 on full dataset, correct : 482 and incorrect : 718\n",
            "for model 1 on full dataset, correct : 482 and incorrect : 718\n",
            "for model 2 on full dataset, correct : 670 and incorrect : 530\n",
            "for model 3 on full dataset, correct : 711 and incorrect : 489\n",
            "for model 4 on full dataset, correct : 730 and incorrect : 470\n"
          ]
        }
      ],
      "source": [
        "for j in range( C_arr.shape[0]):\n",
        "    correct = 0\n",
        "    incorrect = 0 \n",
        "    sk_model = svm.SVC(C = C_arr[j] , kernel = \"rbf\", gamma = 0.001) \n",
        "    sk_model.fit(X_full, Y_full) \n",
        "    predictions = sk_model.predict(X_val_full)\n",
        "    for w in range(Y_val_full.shape[0]):\n",
        "        if (predictions[w] == Y_val_full[w]): correct += 1\n",
        "        else : incorrect += 1\n",
        "    print(f\"for model {j} on full dataset, correct : {correct} and incorrect : {incorrect}\") \n",
        "    accuracy = correct / (correct + incorrect) \n",
        "    "
      ]
    },
    {
      "cell_type": "code",
      "execution_count": 119,
      "metadata": {},
      "outputs": [
        {
          "data": {
            "image/png": "[encoded data removed]",
            "text/plain": [
              "<Figure size 640x480 with 1 Axes>"
            ]
          },
          "metadata": {},
          "output_type": "display_data"
        }
      ],
      "source": [
        "\n",
        "def plot_line(x, y, xlabel, ylabel, title):\n",
        "    plt.plot(x, y, marker='o', label = title)\n",
        "    plt.xlabel(xlabel)\n",
        "    plt.ylabel(ylabel)\n",
        "    # plt.title(title)\n",
        "    # plt.savefig(f\"{name}.png\")\n",
        "    # plt.show()\n",
        "\n",
        "plot_line( np.log(C_arr), cross_validation_ac, \"log C\", \"accuracy\", \"cross_validation_accuracy\")\n",
        "plot_line( np.log(C_arr), validation_ac, \"log C\", \"accuracy\", \"validation_accuracy\") \n",
        "plt.title(\"cross_validation_accuracy vs validation_accuracy\")\n",
        "plt.legend()\n",
        "plt.savefig(\"cross_validation_accuracy vs validation_accuracy.png\")\n",
        "plt.show()\n",
        "\n"
      ]
    },
    {
      "cell_type": "markdown",
      "metadata": {},
      "source": [
        "We observe that the value of C which gives the best cross validation accuracy is also the same which gives the\n",
        "best validation accuracy. \n",
        "In fact as the cross validation accuracy (CVA) increases, the validation accuracy (VA) also increases with C. \n",
        "\n",
        "Thus cross validation accuracy serves as a good measure of the generalized accuracy, i.e we can say for our case that if a model with C = C1 has better cross validation accuracy than model with C = C2, then its generalized accuracy is also expected to be better."
      ]
    }
  ],
  "metadata": {
    "accelerator": "GPU",
    "colab": {
      "gpuType": "T4",
      "provenance": []
    },
    "kernelspec": {
      "display_name": "Python 3",
      "name": "python3"
    },
    "language_info": {
      "codemirror_mode": {
        "name": "ipython",
        "version": 3
      },
      "file_extension": ".py",
      "mimetype": "text/x-python",
      "name": "python",
      "nbconvert_exporter": "python",
      "pygments_lexer": "ipython3",
      "version": "3.11.4"
    }
  },
  "nbformat": 4,
  "nbformat_minor": 0
}
